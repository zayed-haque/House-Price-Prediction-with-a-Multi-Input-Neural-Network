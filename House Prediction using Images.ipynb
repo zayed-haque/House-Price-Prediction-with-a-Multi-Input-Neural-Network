{
 "cells": [
  {
   "cell_type": "code",
   "execution_count": 1,
   "id": "a6ce6ff7",
   "metadata": {
    "execution": {
     "iopub.execute_input": "2023-01-28T18:21:43.354338Z",
     "iopub.status.busy": "2023-01-28T18:21:43.353563Z",
     "iopub.status.idle": "2023-01-28T18:21:49.555696Z",
     "shell.execute_reply": "2023-01-28T18:21:49.554737Z"
    },
    "papermill": {
     "duration": 6.219796,
     "end_time": "2023-01-28T18:21:49.558194",
     "exception": false,
     "start_time": "2023-01-28T18:21:43.338398",
     "status": "completed"
    },
    "tags": []
   },
   "outputs": [],
   "source": [
    "import pandas as pd\n",
    "import numpy as np\n",
    "import matplotlib.pyplot as plt \n",
    "%matplotlib inline\n",
    "import seaborn as sns\n",
    "import os\n",
    "import cv2\n",
    "from sklearn.metrics import mean_absolute_error, mean_absolute_percentage_error, mean_squared_error, r2_score\n",
    "from tensorflow.keras.callbacks import EarlyStopping\n",
    "from tensorflow.keras.layers import Input, Conv2D, MaxPooling2D, Dropout, Flatten, Dense, Rescaling, BatchNormalization, Concatenate\n",
    "from tensorflow.keras.models import Model\n"
   ]
  },
  {
   "cell_type": "code",
   "execution_count": 2,
   "id": "0adfda8d",
   "metadata": {
    "execution": {
     "iopub.execute_input": "2023-01-28T18:21:49.584621Z",
     "iopub.status.busy": "2023-01-28T18:21:49.584122Z",
     "iopub.status.idle": "2023-01-28T18:21:49.631025Z",
     "shell.execute_reply": "2023-01-28T18:21:49.630138Z"
    },
    "papermill": {
     "duration": 0.062333,
     "end_time": "2023-01-28T18:21:49.633224",
     "exception": false,
     "start_time": "2023-01-28T18:21:49.570891",
     "status": "completed"
    },
    "tags": []
   },
   "outputs": [],
   "source": [
    "df=pd.read_csv(\"/kaggle/input/mine-the-model-celesta-2023/train.csv\")\n",
    "df_image=pd.read_csv\n",
    "df_test=pd.read_csv(\"/kaggle/input/mine-the-model-celesta-2023/test.csv\")"
   ]
  },
  {
   "cell_type": "code",
   "execution_count": 3,
   "id": "b6065dce",
   "metadata": {
    "execution": {
     "iopub.execute_input": "2023-01-28T18:21:49.660496Z",
     "iopub.status.busy": "2023-01-28T18:21:49.658901Z",
     "iopub.status.idle": "2023-01-28T18:21:49.678675Z",
     "shell.execute_reply": "2023-01-28T18:21:49.677503Z"
    },
    "papermill": {
     "duration": 0.036069,
     "end_time": "2023-01-28T18:21:49.681866",
     "exception": false,
     "start_time": "2023-01-28T18:21:49.645797",
     "status": "completed"
    },
    "tags": []
   },
   "outputs": [
    {
     "data": {
      "text/html": [
       "<div>\n",
       "<style scoped>\n",
       "    .dataframe tbody tr th:only-of-type {\n",
       "        vertical-align: middle;\n",
       "    }\n",
       "\n",
       "    .dataframe tbody tr th {\n",
       "        vertical-align: top;\n",
       "    }\n",
       "\n",
       "    .dataframe thead th {\n",
       "        text-align: right;\n",
       "    }\n",
       "</style>\n",
       "<table border=\"1\" class=\"dataframe\">\n",
       "  <thead>\n",
       "    <tr style=\"text-align: right;\">\n",
       "      <th></th>\n",
       "      <th>index</th>\n",
       "      <th>rooms</th>\n",
       "      <th>retail_price</th>\n",
       "      <th>address</th>\n",
       "      <th>city</th>\n",
       "      <th>sqft</th>\n",
       "      <th>toilets</th>\n",
       "      <th>image_id</th>\n",
       "    </tr>\n",
       "  </thead>\n",
       "  <tbody>\n",
       "    <tr>\n",
       "      <th>0</th>\n",
       "      <td>5832</td>\n",
       "      <td>2.0</td>\n",
       "      <td>299000</td>\n",
       "      <td>81913 Calle Torbellino</td>\n",
       "      <td>Indio, CA</td>\n",
       "      <td>1295.0</td>\n",
       "      <td>2.0</td>\n",
       "      <td>5832</td>\n",
       "    </tr>\n",
       "    <tr>\n",
       "      <th>1</th>\n",
       "      <td>5584</td>\n",
       "      <td>3.0</td>\n",
       "      <td>299000</td>\n",
       "      <td>26076 Fiesta Place</td>\n",
       "      <td>Hemet, CA</td>\n",
       "      <td>1566.0</td>\n",
       "      <td>2.0</td>\n",
       "      <td>5584</td>\n",
       "    </tr>\n",
       "    <tr>\n",
       "      <th>2</th>\n",
       "      <td>9408</td>\n",
       "      <td>5.0</td>\n",
       "      <td>499990</td>\n",
       "      <td>34450 Fawn Ridge Place</td>\n",
       "      <td>Yucaipa, CA</td>\n",
       "      <td>3068.0</td>\n",
       "      <td>3.0</td>\n",
       "      <td>9408</td>\n",
       "    </tr>\n",
       "    <tr>\n",
       "      <th>3</th>\n",
       "      <td>4644</td>\n",
       "      <td>4.0</td>\n",
       "      <td>849900</td>\n",
       "      <td>26481 Montebello Place</td>\n",
       "      <td>Mission Viejo, CA</td>\n",
       "      <td>2230.0</td>\n",
       "      <td>2.1</td>\n",
       "      <td>4644</td>\n",
       "    </tr>\n",
       "    <tr>\n",
       "      <th>4</th>\n",
       "      <td>5739</td>\n",
       "      <td>3.0</td>\n",
       "      <td>333490</td>\n",
       "      <td>2562 Red Spruce Lane</td>\n",
       "      <td>San Jacinto, CA</td>\n",
       "      <td>1898.0</td>\n",
       "      <td>2.0</td>\n",
       "      <td>5739</td>\n",
       "    </tr>\n",
       "  </tbody>\n",
       "</table>\n",
       "</div>"
      ],
      "text/plain": [
       "   index  rooms  retail_price                 address               city  \\\n",
       "0   5832    2.0        299000  81913 Calle Torbellino          Indio, CA   \n",
       "1   5584    3.0        299000      26076 Fiesta Place          Hemet, CA   \n",
       "2   9408    5.0        499990  34450 Fawn Ridge Place        Yucaipa, CA   \n",
       "3   4644    4.0        849900  26481 Montebello Place  Mission Viejo, CA   \n",
       "4   5739    3.0        333490    2562 Red Spruce Lane    San Jacinto, CA   \n",
       "\n",
       "     sqft  toilets  image_id  \n",
       "0  1295.0      2.0      5832  \n",
       "1  1566.0      2.0      5584  \n",
       "2  3068.0      3.0      9408  \n",
       "3  2230.0      2.1      4644  \n",
       "4  1898.0      2.0      5739  "
      ]
     },
     "execution_count": 3,
     "metadata": {},
     "output_type": "execute_result"
    }
   ],
   "source": [
    "df.head()"
   ]
  },
  {
   "cell_type": "code",
   "execution_count": 4,
   "id": "24e28bf4",
   "metadata": {
    "execution": {
     "iopub.execute_input": "2023-01-28T18:21:49.708942Z",
     "iopub.status.busy": "2023-01-28T18:21:49.708242Z",
     "iopub.status.idle": "2023-01-28T18:21:49.720282Z",
     "shell.execute_reply": "2023-01-28T18:21:49.719248Z"
    },
    "papermill": {
     "duration": 0.027512,
     "end_time": "2023-01-28T18:21:49.722420",
     "exception": false,
     "start_time": "2023-01-28T18:21:49.694908",
     "status": "completed"
    },
    "tags": []
   },
   "outputs": [
    {
     "data": {
      "text/html": [
       "<div>\n",
       "<style scoped>\n",
       "    .dataframe tbody tr th:only-of-type {\n",
       "        vertical-align: middle;\n",
       "    }\n",
       "\n",
       "    .dataframe tbody tr th {\n",
       "        vertical-align: top;\n",
       "    }\n",
       "\n",
       "    .dataframe thead th {\n",
       "        text-align: right;\n",
       "    }\n",
       "</style>\n",
       "<table border=\"1\" class=\"dataframe\">\n",
       "  <thead>\n",
       "    <tr style=\"text-align: right;\">\n",
       "      <th></th>\n",
       "      <th>index</th>\n",
       "      <th>rooms</th>\n",
       "      <th>address</th>\n",
       "      <th>city</th>\n",
       "      <th>sqft</th>\n",
       "      <th>toilets</th>\n",
       "      <th>image_id</th>\n",
       "    </tr>\n",
       "  </thead>\n",
       "  <tbody>\n",
       "    <tr>\n",
       "      <th>0</th>\n",
       "      <td>3076</td>\n",
       "      <td>3</td>\n",
       "      <td>33171 Sea Lion Drive</td>\n",
       "      <td>Dana Point, CA</td>\n",
       "      <td>1510</td>\n",
       "      <td>2.0</td>\n",
       "      <td>3076</td>\n",
       "    </tr>\n",
       "    <tr>\n",
       "      <th>1</th>\n",
       "      <td>3218</td>\n",
       "      <td>4</td>\n",
       "      <td>33 Segovia</td>\n",
       "      <td>San Clemente, CA</td>\n",
       "      <td>2342</td>\n",
       "      <td>3.0</td>\n",
       "      <td>3218</td>\n",
       "    </tr>\n",
       "    <tr>\n",
       "      <th>2</th>\n",
       "      <td>9213</td>\n",
       "      <td>2</td>\n",
       "      <td>1074 TAMARACK Road</td>\n",
       "      <td>Pinon Hills, CA</td>\n",
       "      <td>2845</td>\n",
       "      <td>3.0</td>\n",
       "      <td>9213</td>\n",
       "    </tr>\n",
       "    <tr>\n",
       "      <th>3</th>\n",
       "      <td>10018</td>\n",
       "      <td>4</td>\n",
       "      <td>10989 Coalinga Avenue</td>\n",
       "      <td>Montclair, CA</td>\n",
       "      <td>2379</td>\n",
       "      <td>3.0</td>\n",
       "      <td>10018</td>\n",
       "    </tr>\n",
       "    <tr>\n",
       "      <th>4</th>\n",
       "      <td>11355</td>\n",
       "      <td>4</td>\n",
       "      <td>1128 Custer</td>\n",
       "      <td>Campo, CA</td>\n",
       "      <td>1836</td>\n",
       "      <td>3.0</td>\n",
       "      <td>11355</td>\n",
       "    </tr>\n",
       "  </tbody>\n",
       "</table>\n",
       "</div>"
      ],
      "text/plain": [
       "   index  rooms                address              city  sqft  toilets  \\\n",
       "0   3076      3   33171 Sea Lion Drive    Dana Point, CA  1510      2.0   \n",
       "1   3218      4             33 Segovia  San Clemente, CA  2342      3.0   \n",
       "2   9213      2     1074 TAMARACK Road   Pinon Hills, CA  2845      3.0   \n",
       "3  10018      4  10989 Coalinga Avenue     Montclair, CA  2379      3.0   \n",
       "4  11355      4            1128 Custer         Campo, CA  1836      3.0   \n",
       "\n",
       "   image_id  \n",
       "0      3076  \n",
       "1      3218  \n",
       "2      9213  \n",
       "3     10018  \n",
       "4     11355  "
      ]
     },
     "execution_count": 4,
     "metadata": {},
     "output_type": "execute_result"
    }
   ],
   "source": [
    "df_test.head()"
   ]
  },
  {
   "cell_type": "code",
   "execution_count": 5,
   "id": "36307e89",
   "metadata": {
    "execution": {
     "iopub.execute_input": "2023-01-28T18:21:49.749506Z",
     "iopub.status.busy": "2023-01-28T18:21:49.749239Z",
     "iopub.status.idle": "2023-01-28T18:21:49.753160Z",
     "shell.execute_reply": "2023-01-28T18:21:49.752255Z"
    },
    "papermill": {
     "duration": 0.019473,
     "end_time": "2023-01-28T18:21:49.755103",
     "exception": false,
     "start_time": "2023-01-28T18:21:49.735630",
     "status": "completed"
    },
    "tags": []
   },
   "outputs": [],
   "source": [
    "df2=df_test"
   ]
  },
  {
   "cell_type": "code",
   "execution_count": 6,
   "id": "e4eb4745",
   "metadata": {
    "execution": {
     "iopub.execute_input": "2023-01-28T18:21:49.781741Z",
     "iopub.status.busy": "2023-01-28T18:21:49.781006Z",
     "iopub.status.idle": "2023-01-28T18:21:49.787064Z",
     "shell.execute_reply": "2023-01-28T18:21:49.786044Z"
    },
    "papermill": {
     "duration": 0.021286,
     "end_time": "2023-01-28T18:21:49.788910",
     "exception": false,
     "start_time": "2023-01-28T18:21:49.767624",
     "status": "completed"
    },
    "tags": []
   },
   "outputs": [
    {
     "data": {
      "text/plain": [
       "(8400, 8)"
      ]
     },
     "execution_count": 6,
     "metadata": {},
     "output_type": "execute_result"
    }
   ],
   "source": [
    "df.shape\n"
   ]
  },
  {
   "cell_type": "code",
   "execution_count": 7,
   "id": "d9184424",
   "metadata": {
    "execution": {
     "iopub.execute_input": "2023-01-28T18:21:49.815896Z",
     "iopub.status.busy": "2023-01-28T18:21:49.815066Z",
     "iopub.status.idle": "2023-01-28T18:21:49.821208Z",
     "shell.execute_reply": "2023-01-28T18:21:49.820277Z"
    },
    "papermill": {
     "duration": 0.021557,
     "end_time": "2023-01-28T18:21:49.823064",
     "exception": false,
     "start_time": "2023-01-28T18:21:49.801507",
     "status": "completed"
    },
    "tags": []
   },
   "outputs": [
    {
     "data": {
      "text/plain": [
       "(3601, 7)"
      ]
     },
     "execution_count": 7,
     "metadata": {},
     "output_type": "execute_result"
    }
   ],
   "source": [
    "df2.shape"
   ]
  },
  {
   "cell_type": "code",
   "execution_count": 8,
   "id": "254e1eee",
   "metadata": {
    "execution": {
     "iopub.execute_input": "2023-01-28T18:21:49.850296Z",
     "iopub.status.busy": "2023-01-28T18:21:49.849442Z",
     "iopub.status.idle": "2023-01-28T18:21:49.863563Z",
     "shell.execute_reply": "2023-01-28T18:21:49.862608Z"
    },
    "papermill": {
     "duration": 0.029941,
     "end_time": "2023-01-28T18:21:49.865733",
     "exception": false,
     "start_time": "2023-01-28T18:21:49.835792",
     "status": "completed"
    },
    "tags": []
   },
   "outputs": [
    {
     "data": {
      "text/plain": [
       "<bound method DataFrame.info of       index  rooms  retail_price                 address                city  \\\n",
       "0      5832    2.0        299000  81913 Calle Torbellino           Indio, CA   \n",
       "1      5584    3.0        299000      26076 Fiesta Place           Hemet, CA   \n",
       "2      9408    5.0        499990  34450 Fawn Ridge Place         Yucaipa, CA   \n",
       "3      4644    4.0        849900  26481 Montebello Place   Mission Viejo, CA   \n",
       "4      5739    3.0        333490    2562 Red Spruce Lane     San Jacinto, CA   \n",
       "...     ...    ...           ...                     ...                 ...   \n",
       "8395    792    4.0        289990    45228 Lorimer Avenue       Lancaster, CA   \n",
       "8396  10671    4.0        895000       265 Old Toll Road  Lake Arrowhead, CA   \n",
       "8397  11650    3.0        479900        5925 Balmoral Dr       San Diego, CA   \n",
       "8398   2134    4.0        599000   28137 Stonington Lane          Saugus, CA   \n",
       "8399   6812    5.0        549900      31666 Sundance Way   Lake Elsinore, CA   \n",
       "\n",
       "        sqft  toilets  image_id  \n",
       "0     1295.0      2.0      5832  \n",
       "1     1566.0      2.0      5584  \n",
       "2     3068.0      3.0      9408  \n",
       "3     2230.0      2.1      4644  \n",
       "4     1898.0      2.0      5739  \n",
       "...      ...      ...       ...  \n",
       "8395  1498.0      2.0       792  \n",
       "8396  2981.0      3.0     10671  \n",
       "8397  1272.0      1.0     11650  \n",
       "8398  1924.0      3.0      2134  \n",
       "8399  2867.0      3.0      6812  \n",
       "\n",
       "[8400 rows x 8 columns]>"
      ]
     },
     "execution_count": 8,
     "metadata": {},
     "output_type": "execute_result"
    }
   ],
   "source": [
    "df.info"
   ]
  },
  {
   "cell_type": "code",
   "execution_count": 9,
   "id": "c4e06dc3",
   "metadata": {
    "execution": {
     "iopub.execute_input": "2023-01-28T18:21:49.893313Z",
     "iopub.status.busy": "2023-01-28T18:21:49.892452Z",
     "iopub.status.idle": "2023-01-28T18:21:49.907512Z",
     "shell.execute_reply": "2023-01-28T18:21:49.906563Z"
    },
    "papermill": {
     "duration": 0.030636,
     "end_time": "2023-01-28T18:21:49.909410",
     "exception": false,
     "start_time": "2023-01-28T18:21:49.878774",
     "status": "completed"
    },
    "tags": []
   },
   "outputs": [
    {
     "data": {
      "text/plain": [
       "city\n",
       "29 Palms, CA           7\n",
       "Acton, CA             13\n",
       "Adelanto, CA          20\n",
       "Agoura Hills, CA       7\n",
       "Agua Dulce, CA         2\n",
       "                      ..\n",
       "Woodland Hills, CA    28\n",
       "Wrightwood, CA        14\n",
       "Yorba Linda, CA       44\n",
       "Yucaipa, CA           65\n",
       "Yucca Valley, CA      29\n",
       "Name: city, Length: 351, dtype: int64"
      ]
     },
     "execution_count": 9,
     "metadata": {},
     "output_type": "execute_result"
    }
   ],
   "source": [
    "df.groupby('city')['city'].agg('count')"
   ]
  },
  {
   "cell_type": "code",
   "execution_count": 10,
   "id": "7c7455ca",
   "metadata": {
    "execution": {
     "iopub.execute_input": "2023-01-28T18:21:49.936820Z",
     "iopub.status.busy": "2023-01-28T18:21:49.936023Z",
     "iopub.status.idle": "2023-01-28T18:21:49.944076Z",
     "shell.execute_reply": "2023-01-28T18:21:49.943107Z"
    },
    "papermill": {
     "duration": 0.023685,
     "end_time": "2023-01-28T18:21:49.946056",
     "exception": false,
     "start_time": "2023-01-28T18:21:49.922371",
     "status": "completed"
    },
    "tags": []
   },
   "outputs": [
    {
     "data": {
      "text/plain": [
       "rooms\n",
       "1.0      109\n",
       "2.0     1114\n",
       "3.0     3166\n",
       "4.0     2623\n",
       "5.0      963\n",
       "6.0      177\n",
       "7.0       41\n",
       "8.0        8\n",
       "9.0        1\n",
       "10.0       2\n",
       "Name: rooms, dtype: int64"
      ]
     },
     "execution_count": 10,
     "metadata": {},
     "output_type": "execute_result"
    }
   ],
   "source": [
    "df.groupby('rooms')['rooms'].agg('count')"
   ]
  },
  {
   "cell_type": "code",
   "execution_count": 11,
   "id": "d46b88aa",
   "metadata": {
    "execution": {
     "iopub.execute_input": "2023-01-28T18:21:49.974890Z",
     "iopub.status.busy": "2023-01-28T18:21:49.974017Z",
     "iopub.status.idle": "2023-01-28T18:21:49.982405Z",
     "shell.execute_reply": "2023-01-28T18:21:49.981346Z"
    },
    "papermill": {
     "duration": 0.024826,
     "end_time": "2023-01-28T18:21:49.984499",
     "exception": false,
     "start_time": "2023-01-28T18:21:49.959673",
     "status": "completed"
    },
    "tags": []
   },
   "outputs": [
    {
     "data": {
      "text/plain": [
       "index             0\n",
       "rooms           196\n",
       "retail_price      0\n",
       "address           0\n",
       "city              0\n",
       "sqft            147\n",
       "toilets           0\n",
       "image_id          0\n",
       "dtype: int64"
      ]
     },
     "execution_count": 11,
     "metadata": {},
     "output_type": "execute_result"
    }
   ],
   "source": [
    "df.isnull().sum()"
   ]
  },
  {
   "cell_type": "code",
   "execution_count": 12,
   "id": "e24a5138",
   "metadata": {
    "execution": {
     "iopub.execute_input": "2023-01-28T18:21:50.015064Z",
     "iopub.status.busy": "2023-01-28T18:21:50.013965Z",
     "iopub.status.idle": "2023-01-28T18:21:50.022037Z",
     "shell.execute_reply": "2023-01-28T18:21:50.021059Z"
    },
    "papermill": {
     "duration": 0.025857,
     "end_time": "2023-01-28T18:21:50.024288",
     "exception": false,
     "start_time": "2023-01-28T18:21:49.998431",
     "status": "completed"
    },
    "tags": []
   },
   "outputs": [],
   "source": [
    "df['rooms']=df['rooms'].fillna(df['rooms'].median())"
   ]
  },
  {
   "cell_type": "code",
   "execution_count": 13,
   "id": "65086f33",
   "metadata": {
    "execution": {
     "iopub.execute_input": "2023-01-28T18:21:50.054482Z",
     "iopub.status.busy": "2023-01-28T18:21:50.054156Z",
     "iopub.status.idle": "2023-01-28T18:21:50.060505Z",
     "shell.execute_reply": "2023-01-28T18:21:50.059513Z"
    },
    "papermill": {
     "duration": 0.022749,
     "end_time": "2023-01-28T18:21:50.062523",
     "exception": false,
     "start_time": "2023-01-28T18:21:50.039774",
     "status": "completed"
    },
    "tags": []
   },
   "outputs": [],
   "source": [
    "df['sqft']=df['sqft'].fillna(df['sqft'].median())"
   ]
  },
  {
   "cell_type": "code",
   "execution_count": 14,
   "id": "bee682d2",
   "metadata": {
    "execution": {
     "iopub.execute_input": "2023-01-28T18:21:50.091961Z",
     "iopub.status.busy": "2023-01-28T18:21:50.091039Z",
     "iopub.status.idle": "2023-01-28T18:21:50.107256Z",
     "shell.execute_reply": "2023-01-28T18:21:50.106429Z"
    },
    "papermill": {
     "duration": 0.03294,
     "end_time": "2023-01-28T18:21:50.109230",
     "exception": false,
     "start_time": "2023-01-28T18:21:50.076290",
     "status": "completed"
    },
    "tags": []
   },
   "outputs": [],
   "source": [
    "df['address']=df['address'].str.split(\" \",1).str[1]"
   ]
  },
  {
   "cell_type": "code",
   "execution_count": 15,
   "id": "084f494c",
   "metadata": {
    "execution": {
     "iopub.execute_input": "2023-01-28T18:21:50.137249Z",
     "iopub.status.busy": "2023-01-28T18:21:50.136417Z",
     "iopub.status.idle": "2023-01-28T18:21:50.146314Z",
     "shell.execute_reply": "2023-01-28T18:21:50.145449Z"
    },
    "papermill": {
     "duration": 0.025793,
     "end_time": "2023-01-28T18:21:50.148225",
     "exception": false,
     "start_time": "2023-01-28T18:21:50.122432",
     "status": "completed"
    },
    "tags": []
   },
   "outputs": [],
   "source": [
    "df2['address']=df2['address'].str.split(\" \",1).str[1]"
   ]
  },
  {
   "cell_type": "code",
   "execution_count": 16,
   "id": "be254a14",
   "metadata": {
    "execution": {
     "iopub.execute_input": "2023-01-28T18:21:50.176205Z",
     "iopub.status.busy": "2023-01-28T18:21:50.175409Z",
     "iopub.status.idle": "2023-01-28T18:21:50.188825Z",
     "shell.execute_reply": "2023-01-28T18:21:50.187783Z"
    },
    "papermill": {
     "duration": 0.029557,
     "end_time": "2023-01-28T18:21:50.190900",
     "exception": false,
     "start_time": "2023-01-28T18:21:50.161343",
     "status": "completed"
    },
    "tags": []
   },
   "outputs": [
    {
     "data": {
      "text/html": [
       "<div>\n",
       "<style scoped>\n",
       "    .dataframe tbody tr th:only-of-type {\n",
       "        vertical-align: middle;\n",
       "    }\n",
       "\n",
       "    .dataframe tbody tr th {\n",
       "        vertical-align: top;\n",
       "    }\n",
       "\n",
       "    .dataframe thead th {\n",
       "        text-align: right;\n",
       "    }\n",
       "</style>\n",
       "<table border=\"1\" class=\"dataframe\">\n",
       "  <thead>\n",
       "    <tr style=\"text-align: right;\">\n",
       "      <th></th>\n",
       "      <th>index</th>\n",
       "      <th>rooms</th>\n",
       "      <th>retail_price</th>\n",
       "      <th>address</th>\n",
       "      <th>city</th>\n",
       "      <th>sqft</th>\n",
       "      <th>toilets</th>\n",
       "      <th>image_id</th>\n",
       "    </tr>\n",
       "  </thead>\n",
       "  <tbody>\n",
       "    <tr>\n",
       "      <th>0</th>\n",
       "      <td>5832</td>\n",
       "      <td>2.0</td>\n",
       "      <td>299000</td>\n",
       "      <td>Calle Torbellino</td>\n",
       "      <td>Indio, CA</td>\n",
       "      <td>1295.0</td>\n",
       "      <td>2.0</td>\n",
       "      <td>5832</td>\n",
       "    </tr>\n",
       "    <tr>\n",
       "      <th>1</th>\n",
       "      <td>5584</td>\n",
       "      <td>3.0</td>\n",
       "      <td>299000</td>\n",
       "      <td>Fiesta Place</td>\n",
       "      <td>Hemet, CA</td>\n",
       "      <td>1566.0</td>\n",
       "      <td>2.0</td>\n",
       "      <td>5584</td>\n",
       "    </tr>\n",
       "    <tr>\n",
       "      <th>2</th>\n",
       "      <td>9408</td>\n",
       "      <td>5.0</td>\n",
       "      <td>499990</td>\n",
       "      <td>Fawn Ridge Place</td>\n",
       "      <td>Yucaipa, CA</td>\n",
       "      <td>3068.0</td>\n",
       "      <td>3.0</td>\n",
       "      <td>9408</td>\n",
       "    </tr>\n",
       "    <tr>\n",
       "      <th>3</th>\n",
       "      <td>4644</td>\n",
       "      <td>4.0</td>\n",
       "      <td>849900</td>\n",
       "      <td>Montebello Place</td>\n",
       "      <td>Mission Viejo, CA</td>\n",
       "      <td>2230.0</td>\n",
       "      <td>2.1</td>\n",
       "      <td>4644</td>\n",
       "    </tr>\n",
       "    <tr>\n",
       "      <th>4</th>\n",
       "      <td>5739</td>\n",
       "      <td>3.0</td>\n",
       "      <td>333490</td>\n",
       "      <td>Red Spruce Lane</td>\n",
       "      <td>San Jacinto, CA</td>\n",
       "      <td>1898.0</td>\n",
       "      <td>2.0</td>\n",
       "      <td>5739</td>\n",
       "    </tr>\n",
       "  </tbody>\n",
       "</table>\n",
       "</div>"
      ],
      "text/plain": [
       "   index  rooms  retail_price           address               city    sqft  \\\n",
       "0   5832    2.0        299000  Calle Torbellino          Indio, CA  1295.0   \n",
       "1   5584    3.0        299000      Fiesta Place          Hemet, CA  1566.0   \n",
       "2   9408    5.0        499990  Fawn Ridge Place        Yucaipa, CA  3068.0   \n",
       "3   4644    4.0        849900  Montebello Place  Mission Viejo, CA  2230.0   \n",
       "4   5739    3.0        333490   Red Spruce Lane    San Jacinto, CA  1898.0   \n",
       "\n",
       "   toilets  image_id  \n",
       "0      2.0      5832  \n",
       "1      2.0      5584  \n",
       "2      3.0      9408  \n",
       "3      2.1      4644  \n",
       "4      2.0      5739  "
      ]
     },
     "execution_count": 16,
     "metadata": {},
     "output_type": "execute_result"
    }
   ],
   "source": [
    "df.head()"
   ]
  },
  {
   "cell_type": "code",
   "execution_count": 17,
   "id": "97040767",
   "metadata": {
    "execution": {
     "iopub.execute_input": "2023-01-28T18:21:50.219945Z",
     "iopub.status.busy": "2023-01-28T18:21:50.219178Z",
     "iopub.status.idle": "2023-01-28T18:21:50.230778Z",
     "shell.execute_reply": "2023-01-28T18:21:50.229780Z"
    },
    "papermill": {
     "duration": 0.027935,
     "end_time": "2023-01-28T18:21:50.232791",
     "exception": false,
     "start_time": "2023-01-28T18:21:50.204856",
     "status": "completed"
    },
    "tags": []
   },
   "outputs": [
    {
     "data": {
      "text/html": [
       "<div>\n",
       "<style scoped>\n",
       "    .dataframe tbody tr th:only-of-type {\n",
       "        vertical-align: middle;\n",
       "    }\n",
       "\n",
       "    .dataframe tbody tr th {\n",
       "        vertical-align: top;\n",
       "    }\n",
       "\n",
       "    .dataframe thead th {\n",
       "        text-align: right;\n",
       "    }\n",
       "</style>\n",
       "<table border=\"1\" class=\"dataframe\">\n",
       "  <thead>\n",
       "    <tr style=\"text-align: right;\">\n",
       "      <th></th>\n",
       "      <th>index</th>\n",
       "      <th>rooms</th>\n",
       "      <th>address</th>\n",
       "      <th>city</th>\n",
       "      <th>sqft</th>\n",
       "      <th>toilets</th>\n",
       "      <th>image_id</th>\n",
       "    </tr>\n",
       "  </thead>\n",
       "  <tbody>\n",
       "    <tr>\n",
       "      <th>0</th>\n",
       "      <td>3076</td>\n",
       "      <td>3</td>\n",
       "      <td>Sea Lion Drive</td>\n",
       "      <td>Dana Point, CA</td>\n",
       "      <td>1510</td>\n",
       "      <td>2.0</td>\n",
       "      <td>3076</td>\n",
       "    </tr>\n",
       "    <tr>\n",
       "      <th>1</th>\n",
       "      <td>3218</td>\n",
       "      <td>4</td>\n",
       "      <td>Segovia</td>\n",
       "      <td>San Clemente, CA</td>\n",
       "      <td>2342</td>\n",
       "      <td>3.0</td>\n",
       "      <td>3218</td>\n",
       "    </tr>\n",
       "    <tr>\n",
       "      <th>2</th>\n",
       "      <td>9213</td>\n",
       "      <td>2</td>\n",
       "      <td>TAMARACK Road</td>\n",
       "      <td>Pinon Hills, CA</td>\n",
       "      <td>2845</td>\n",
       "      <td>3.0</td>\n",
       "      <td>9213</td>\n",
       "    </tr>\n",
       "    <tr>\n",
       "      <th>3</th>\n",
       "      <td>10018</td>\n",
       "      <td>4</td>\n",
       "      <td>Coalinga Avenue</td>\n",
       "      <td>Montclair, CA</td>\n",
       "      <td>2379</td>\n",
       "      <td>3.0</td>\n",
       "      <td>10018</td>\n",
       "    </tr>\n",
       "    <tr>\n",
       "      <th>4</th>\n",
       "      <td>11355</td>\n",
       "      <td>4</td>\n",
       "      <td>Custer</td>\n",
       "      <td>Campo, CA</td>\n",
       "      <td>1836</td>\n",
       "      <td>3.0</td>\n",
       "      <td>11355</td>\n",
       "    </tr>\n",
       "  </tbody>\n",
       "</table>\n",
       "</div>"
      ],
      "text/plain": [
       "   index  rooms          address              city  sqft  toilets  image_id\n",
       "0   3076      3   Sea Lion Drive    Dana Point, CA  1510      2.0      3076\n",
       "1   3218      4          Segovia  San Clemente, CA  2342      3.0      3218\n",
       "2   9213      2    TAMARACK Road   Pinon Hills, CA  2845      3.0      9213\n",
       "3  10018      4  Coalinga Avenue     Montclair, CA  2379      3.0     10018\n",
       "4  11355      4           Custer         Campo, CA  1836      3.0     11355"
      ]
     },
     "execution_count": 17,
     "metadata": {},
     "output_type": "execute_result"
    }
   ],
   "source": [
    "df2.head()"
   ]
  },
  {
   "cell_type": "code",
   "execution_count": 18,
   "id": "13436794",
   "metadata": {
    "execution": {
     "iopub.execute_input": "2023-01-28T18:21:50.263028Z",
     "iopub.status.busy": "2023-01-28T18:21:50.262224Z",
     "iopub.status.idle": "2023-01-28T18:21:50.274229Z",
     "shell.execute_reply": "2023-01-28T18:21:50.273276Z"
    },
    "papermill": {
     "duration": 0.029109,
     "end_time": "2023-01-28T18:21:50.276147",
     "exception": false,
     "start_time": "2023-01-28T18:21:50.247038",
     "status": "completed"
    },
    "tags": []
   },
   "outputs": [
    {
     "data": {
      "text/plain": [
       "Calle Aragon             12\n",
       "Avenida Castilla         10\n",
       "not provided             10\n",
       "Avenida Majorca           9\n",
       "W San Marcos Blvd         7\n",
       "                         ..\n",
       "W 53rd Street             1\n",
       "Myrtlewood Avenue         1\n",
       "Denver Avenue             1\n",
       "Grand Traverse Avenue     1\n",
       "Balmoral Dr               1\n",
       "Name: address, Length: 6382, dtype: int64"
      ]
     },
     "execution_count": 18,
     "metadata": {},
     "output_type": "execute_result"
    }
   ],
   "source": [
    "df['address'].value_counts()"
   ]
  },
  {
   "cell_type": "code",
   "execution_count": 19,
   "id": "f6d09724",
   "metadata": {
    "execution": {
     "iopub.execute_input": "2023-01-28T18:21:50.305039Z",
     "iopub.status.busy": "2023-01-28T18:21:50.304079Z",
     "iopub.status.idle": "2023-01-28T18:21:50.316171Z",
     "shell.execute_reply": "2023-01-28T18:21:50.315324Z"
    },
    "papermill": {
     "duration": 0.028451,
     "end_time": "2023-01-28T18:21:50.318161",
     "exception": false,
     "start_time": "2023-01-28T18:21:50.289710",
     "status": "completed"
    },
    "tags": []
   },
   "outputs": [],
   "source": [
    "street_frequency=df['address'].value_counts().to_dict()"
   ]
  },
  {
   "cell_type": "code",
   "execution_count": 20,
   "id": "fae01827",
   "metadata": {
    "execution": {
     "iopub.execute_input": "2023-01-28T18:21:50.346471Z",
     "iopub.status.busy": "2023-01-28T18:21:50.346185Z",
     "iopub.status.idle": "2023-01-28T18:21:50.355272Z",
     "shell.execute_reply": "2023-01-28T18:21:50.354341Z"
    },
    "papermill": {
     "duration": 0.02553,
     "end_time": "2023-01-28T18:21:50.357218",
     "exception": false,
     "start_time": "2023-01-28T18:21:50.331688",
     "status": "completed"
    },
    "tags": []
   },
   "outputs": [],
   "source": [
    "street_frequency2=df2['address'].value_counts().to_dict()"
   ]
  },
  {
   "cell_type": "code",
   "execution_count": 21,
   "id": "7bd288e9",
   "metadata": {
    "execution": {
     "iopub.execute_input": "2023-01-28T18:21:50.386151Z",
     "iopub.status.busy": "2023-01-28T18:21:50.385349Z",
     "iopub.status.idle": "2023-01-28T18:21:52.322511Z",
     "shell.execute_reply": "2023-01-28T18:21:52.321522Z"
    },
    "papermill": {
     "duration": 1.953993,
     "end_time": "2023-01-28T18:21:52.325001",
     "exception": false,
     "start_time": "2023-01-28T18:21:50.371008",
     "status": "completed"
    },
    "tags": []
   },
   "outputs": [],
   "source": [
    "df=df.replace({'address':street_frequency})"
   ]
  },
  {
   "cell_type": "code",
   "execution_count": 22,
   "id": "3ddad9aa",
   "metadata": {
    "execution": {
     "iopub.execute_input": "2023-01-28T18:21:52.353947Z",
     "iopub.status.busy": "2023-01-28T18:21:52.353603Z",
     "iopub.status.idle": "2023-01-28T18:21:52.947449Z",
     "shell.execute_reply": "2023-01-28T18:21:52.946424Z"
    },
    "papermill": {
     "duration": 0.610489,
     "end_time": "2023-01-28T18:21:52.949624",
     "exception": false,
     "start_time": "2023-01-28T18:21:52.339135",
     "status": "completed"
    },
    "tags": []
   },
   "outputs": [],
   "source": [
    "df2=df2.replace({'address':street_frequency2})"
   ]
  },
  {
   "cell_type": "code",
   "execution_count": 23,
   "id": "7a03100d",
   "metadata": {
    "execution": {
     "iopub.execute_input": "2023-01-28T18:21:52.978936Z",
     "iopub.status.busy": "2023-01-28T18:21:52.978089Z",
     "iopub.status.idle": "2023-01-28T18:21:52.985501Z",
     "shell.execute_reply": "2023-01-28T18:21:52.984473Z"
    },
    "papermill": {
     "duration": 0.023967,
     "end_time": "2023-01-28T18:21:52.987649",
     "exception": false,
     "start_time": "2023-01-28T18:21:52.963682",
     "status": "completed"
    },
    "tags": []
   },
   "outputs": [
    {
     "data": {
      "text/plain": [
       "351"
      ]
     },
     "execution_count": 23,
     "metadata": {},
     "output_type": "execute_result"
    }
   ],
   "source": [
    "df['city'].nunique()"
   ]
  },
  {
   "cell_type": "code",
   "execution_count": 24,
   "id": "b9074ae8",
   "metadata": {
    "execution": {
     "iopub.execute_input": "2023-01-28T18:21:53.016520Z",
     "iopub.status.busy": "2023-01-28T18:21:53.015687Z",
     "iopub.status.idle": "2023-01-28T18:21:53.024780Z",
     "shell.execute_reply": "2023-01-28T18:21:53.023778Z"
    },
    "papermill": {
     "duration": 0.025632,
     "end_time": "2023-01-28T18:21:53.026904",
     "exception": false,
     "start_time": "2023-01-28T18:21:53.001272",
     "status": "completed"
    },
    "tags": []
   },
   "outputs": [
    {
     "data": {
      "text/plain": [
       "Los Angeles, CA       273\n",
       "San Diego, CA         258\n",
       "La Quinta, CA         219\n",
       "Lancaster, CA         214\n",
       "Riverside, CA         189\n",
       "                     ... \n",
       "Hermosa Beach, CA       1\n",
       "West Hollywood, CA      1\n",
       "Echo Park, CA           1\n",
       "Blue Jay, CA            1\n",
       "San Marino, CA          1\n",
       "Name: city, Length: 351, dtype: int64"
      ]
     },
     "execution_count": 24,
     "metadata": {},
     "output_type": "execute_result"
    }
   ],
   "source": [
    "df['city'].value_counts()"
   ]
  },
  {
   "cell_type": "code",
   "execution_count": 25,
   "id": "2a7bd1f6",
   "metadata": {
    "execution": {
     "iopub.execute_input": "2023-01-28T18:21:53.055922Z",
     "iopub.status.busy": "2023-01-28T18:21:53.055608Z",
     "iopub.status.idle": "2023-01-28T18:21:53.068778Z",
     "shell.execute_reply": "2023-01-28T18:21:53.067771Z"
    },
    "papermill": {
     "duration": 0.030185,
     "end_time": "2023-01-28T18:21:53.071081",
     "exception": false,
     "start_time": "2023-01-28T18:21:53.040896",
     "status": "completed"
    },
    "tags": []
   },
   "outputs": [
    {
     "data": {
      "text/html": [
       "<div>\n",
       "<style scoped>\n",
       "    .dataframe tbody tr th:only-of-type {\n",
       "        vertical-align: middle;\n",
       "    }\n",
       "\n",
       "    .dataframe tbody tr th {\n",
       "        vertical-align: top;\n",
       "    }\n",
       "\n",
       "    .dataframe thead th {\n",
       "        text-align: right;\n",
       "    }\n",
       "</style>\n",
       "<table border=\"1\" class=\"dataframe\">\n",
       "  <thead>\n",
       "    <tr style=\"text-align: right;\">\n",
       "      <th></th>\n",
       "      <th>index</th>\n",
       "      <th>rooms</th>\n",
       "      <th>retail_price</th>\n",
       "      <th>address</th>\n",
       "      <th>city</th>\n",
       "      <th>sqft</th>\n",
       "      <th>toilets</th>\n",
       "      <th>image_id</th>\n",
       "    </tr>\n",
       "  </thead>\n",
       "  <tbody>\n",
       "    <tr>\n",
       "      <th>0</th>\n",
       "      <td>5832</td>\n",
       "      <td>2.0</td>\n",
       "      <td>299000</td>\n",
       "      <td>2</td>\n",
       "      <td>Indio, CA</td>\n",
       "      <td>1295.0</td>\n",
       "      <td>2.0</td>\n",
       "      <td>5832</td>\n",
       "    </tr>\n",
       "    <tr>\n",
       "      <th>1</th>\n",
       "      <td>5584</td>\n",
       "      <td>3.0</td>\n",
       "      <td>299000</td>\n",
       "      <td>3</td>\n",
       "      <td>Hemet, CA</td>\n",
       "      <td>1566.0</td>\n",
       "      <td>2.0</td>\n",
       "      <td>5584</td>\n",
       "    </tr>\n",
       "    <tr>\n",
       "      <th>2</th>\n",
       "      <td>9408</td>\n",
       "      <td>5.0</td>\n",
       "      <td>499990</td>\n",
       "      <td>2</td>\n",
       "      <td>Yucaipa, CA</td>\n",
       "      <td>3068.0</td>\n",
       "      <td>3.0</td>\n",
       "      <td>9408</td>\n",
       "    </tr>\n",
       "    <tr>\n",
       "      <th>3</th>\n",
       "      <td>4644</td>\n",
       "      <td>4.0</td>\n",
       "      <td>849900</td>\n",
       "      <td>3</td>\n",
       "      <td>Mission Viejo, CA</td>\n",
       "      <td>2230.0</td>\n",
       "      <td>2.1</td>\n",
       "      <td>4644</td>\n",
       "    </tr>\n",
       "    <tr>\n",
       "      <th>4</th>\n",
       "      <td>5739</td>\n",
       "      <td>3.0</td>\n",
       "      <td>333490</td>\n",
       "      <td>1</td>\n",
       "      <td>San Jacinto, CA</td>\n",
       "      <td>1898.0</td>\n",
       "      <td>2.0</td>\n",
       "      <td>5739</td>\n",
       "    </tr>\n",
       "  </tbody>\n",
       "</table>\n",
       "</div>"
      ],
      "text/plain": [
       "   index  rooms  retail_price  address               city    sqft  toilets  \\\n",
       "0   5832    2.0        299000        2          Indio, CA  1295.0      2.0   \n",
       "1   5584    3.0        299000        3          Hemet, CA  1566.0      2.0   \n",
       "2   9408    5.0        499990        2        Yucaipa, CA  3068.0      3.0   \n",
       "3   4644    4.0        849900        3  Mission Viejo, CA  2230.0      2.1   \n",
       "4   5739    3.0        333490        1    San Jacinto, CA  1898.0      2.0   \n",
       "\n",
       "   image_id  \n",
       "0      5832  \n",
       "1      5584  \n",
       "2      9408  \n",
       "3      4644  \n",
       "4      5739  "
      ]
     },
     "execution_count": 25,
     "metadata": {},
     "output_type": "execute_result"
    }
   ],
   "source": [
    "df.head()"
   ]
  },
  {
   "cell_type": "code",
   "execution_count": 26,
   "id": "5d84f9fe",
   "metadata": {
    "execution": {
     "iopub.execute_input": "2023-01-28T18:21:53.100939Z",
     "iopub.status.busy": "2023-01-28T18:21:53.100643Z",
     "iopub.status.idle": "2023-01-28T18:21:53.111538Z",
     "shell.execute_reply": "2023-01-28T18:21:53.110515Z"
    },
    "papermill": {
     "duration": 0.027935,
     "end_time": "2023-01-28T18:21:53.113828",
     "exception": false,
     "start_time": "2023-01-28T18:21:53.085893",
     "status": "completed"
    },
    "tags": []
   },
   "outputs": [
    {
     "data": {
      "text/html": [
       "<div>\n",
       "<style scoped>\n",
       "    .dataframe tbody tr th:only-of-type {\n",
       "        vertical-align: middle;\n",
       "    }\n",
       "\n",
       "    .dataframe tbody tr th {\n",
       "        vertical-align: top;\n",
       "    }\n",
       "\n",
       "    .dataframe thead th {\n",
       "        text-align: right;\n",
       "    }\n",
       "</style>\n",
       "<table border=\"1\" class=\"dataframe\">\n",
       "  <thead>\n",
       "    <tr style=\"text-align: right;\">\n",
       "      <th></th>\n",
       "      <th>index</th>\n",
       "      <th>rooms</th>\n",
       "      <th>address</th>\n",
       "      <th>city</th>\n",
       "      <th>sqft</th>\n",
       "      <th>toilets</th>\n",
       "      <th>image_id</th>\n",
       "    </tr>\n",
       "  </thead>\n",
       "  <tbody>\n",
       "    <tr>\n",
       "      <th>0</th>\n",
       "      <td>3076</td>\n",
       "      <td>3</td>\n",
       "      <td>1</td>\n",
       "      <td>Dana Point, CA</td>\n",
       "      <td>1510</td>\n",
       "      <td>2.0</td>\n",
       "      <td>3076</td>\n",
       "    </tr>\n",
       "    <tr>\n",
       "      <th>1</th>\n",
       "      <td>3218</td>\n",
       "      <td>4</td>\n",
       "      <td>1</td>\n",
       "      <td>San Clemente, CA</td>\n",
       "      <td>2342</td>\n",
       "      <td>3.0</td>\n",
       "      <td>3218</td>\n",
       "    </tr>\n",
       "    <tr>\n",
       "      <th>2</th>\n",
       "      <td>9213</td>\n",
       "      <td>2</td>\n",
       "      <td>1</td>\n",
       "      <td>Pinon Hills, CA</td>\n",
       "      <td>2845</td>\n",
       "      <td>3.0</td>\n",
       "      <td>9213</td>\n",
       "    </tr>\n",
       "    <tr>\n",
       "      <th>3</th>\n",
       "      <td>10018</td>\n",
       "      <td>4</td>\n",
       "      <td>1</td>\n",
       "      <td>Montclair, CA</td>\n",
       "      <td>2379</td>\n",
       "      <td>3.0</td>\n",
       "      <td>10018</td>\n",
       "    </tr>\n",
       "    <tr>\n",
       "      <th>4</th>\n",
       "      <td>11355</td>\n",
       "      <td>4</td>\n",
       "      <td>1</td>\n",
       "      <td>Campo, CA</td>\n",
       "      <td>1836</td>\n",
       "      <td>3.0</td>\n",
       "      <td>11355</td>\n",
       "    </tr>\n",
       "  </tbody>\n",
       "</table>\n",
       "</div>"
      ],
      "text/plain": [
       "   index  rooms  address              city  sqft  toilets  image_id\n",
       "0   3076      3        1    Dana Point, CA  1510      2.0      3076\n",
       "1   3218      4        1  San Clemente, CA  2342      3.0      3218\n",
       "2   9213      2        1   Pinon Hills, CA  2845      3.0      9213\n",
       "3  10018      4        1     Montclair, CA  2379      3.0     10018\n",
       "4  11355      4        1         Campo, CA  1836      3.0     11355"
      ]
     },
     "execution_count": 26,
     "metadata": {},
     "output_type": "execute_result"
    }
   ],
   "source": [
    "df2.head()"
   ]
  },
  {
   "cell_type": "code",
   "execution_count": 27,
   "id": "218cc20b",
   "metadata": {
    "execution": {
     "iopub.execute_input": "2023-01-28T18:21:53.143204Z",
     "iopub.status.busy": "2023-01-28T18:21:53.142953Z",
     "iopub.status.idle": "2023-01-28T18:21:53.148422Z",
     "shell.execute_reply": "2023-01-28T18:21:53.147437Z"
    },
    "papermill": {
     "duration": 0.022215,
     "end_time": "2023-01-28T18:21:53.150397",
     "exception": false,
     "start_time": "2023-01-28T18:21:53.128182",
     "status": "completed"
    },
    "tags": []
   },
   "outputs": [],
   "source": [
    "df['city']=pd.factorize(df['city'])[0]\n"
   ]
  },
  {
   "cell_type": "code",
   "execution_count": 28,
   "id": "537eb768",
   "metadata": {
    "execution": {
     "iopub.execute_input": "2023-01-28T18:21:53.179243Z",
     "iopub.status.busy": "2023-01-28T18:21:53.178989Z",
     "iopub.status.idle": "2023-01-28T18:21:53.185241Z",
     "shell.execute_reply": "2023-01-28T18:21:53.184381Z"
    },
    "papermill": {
     "duration": 0.023,
     "end_time": "2023-01-28T18:21:53.187265",
     "exception": false,
     "start_time": "2023-01-28T18:21:53.164265",
     "status": "completed"
    },
    "tags": []
   },
   "outputs": [],
   "source": [
    "df2['city']=pd.factorize(df2['city'])[0]"
   ]
  },
  {
   "cell_type": "code",
   "execution_count": 29,
   "id": "d46dc9be",
   "metadata": {
    "execution": {
     "iopub.execute_input": "2023-01-28T18:21:53.216192Z",
     "iopub.status.busy": "2023-01-28T18:21:53.215917Z",
     "iopub.status.idle": "2023-01-28T18:21:53.232034Z",
     "shell.execute_reply": "2023-01-28T18:21:53.230556Z"
    },
    "papermill": {
     "duration": 0.033302,
     "end_time": "2023-01-28T18:21:53.234467",
     "exception": false,
     "start_time": "2023-01-28T18:21:53.201165",
     "status": "completed"
    },
    "tags": []
   },
   "outputs": [
    {
     "name": "stdout",
     "output_type": "stream",
     "text": [
      "<class 'pandas.core.frame.DataFrame'>\n",
      "RangeIndex: 8400 entries, 0 to 8399\n",
      "Data columns (total 8 columns):\n",
      " #   Column        Non-Null Count  Dtype  \n",
      "---  ------        --------------  -----  \n",
      " 0   index         8400 non-null   int64  \n",
      " 1   rooms         8400 non-null   float64\n",
      " 2   retail_price  8400 non-null   int64  \n",
      " 3   address       8400 non-null   int64  \n",
      " 4   city          8400 non-null   int64  \n",
      " 5   sqft          8400 non-null   float64\n",
      " 6   toilets       8400 non-null   float64\n",
      " 7   image_id      8400 non-null   int64  \n",
      "dtypes: float64(3), int64(5)\n",
      "memory usage: 525.1 KB\n"
     ]
    }
   ],
   "source": [
    "df.info()"
   ]
  },
  {
   "cell_type": "code",
   "execution_count": 30,
   "id": "41ec85b9",
   "metadata": {
    "execution": {
     "iopub.execute_input": "2023-01-28T18:21:53.265094Z",
     "iopub.status.busy": "2023-01-28T18:21:53.264438Z",
     "iopub.status.idle": "2023-01-28T18:21:53.275475Z",
     "shell.execute_reply": "2023-01-28T18:21:53.273680Z"
    },
    "papermill": {
     "duration": 0.02895,
     "end_time": "2023-01-28T18:21:53.278109",
     "exception": false,
     "start_time": "2023-01-28T18:21:53.249159",
     "status": "completed"
    },
    "tags": []
   },
   "outputs": [
    {
     "name": "stdout",
     "output_type": "stream",
     "text": [
      "<class 'pandas.core.frame.DataFrame'>\n",
      "RangeIndex: 3601 entries, 0 to 3600\n",
      "Data columns (total 7 columns):\n",
      " #   Column    Non-Null Count  Dtype  \n",
      "---  ------    --------------  -----  \n",
      " 0   index     3601 non-null   int64  \n",
      " 1   rooms     3601 non-null   int64  \n",
      " 2   address   3601 non-null   int64  \n",
      " 3   city      3601 non-null   int64  \n",
      " 4   sqft      3601 non-null   int64  \n",
      " 5   toilets   3601 non-null   float64\n",
      " 6   image_id  3601 non-null   int64  \n",
      "dtypes: float64(1), int64(6)\n",
      "memory usage: 197.1 KB\n"
     ]
    }
   ],
   "source": [
    "df2.info()"
   ]
  },
  {
   "cell_type": "code",
   "execution_count": 31,
   "id": "342e9408",
   "metadata": {
    "execution": {
     "iopub.execute_input": "2023-01-28T18:21:53.308186Z",
     "iopub.status.busy": "2023-01-28T18:21:53.307651Z",
     "iopub.status.idle": "2023-01-28T18:21:53.311842Z",
     "shell.execute_reply": "2023-01-28T18:21:53.310928Z"
    },
    "papermill": {
     "duration": 0.021159,
     "end_time": "2023-01-28T18:21:53.313834",
     "exception": false,
     "start_time": "2023-01-28T18:21:53.292675",
     "status": "completed"
    },
    "tags": []
   },
   "outputs": [],
   "source": [
    "del df['index']"
   ]
  },
  {
   "cell_type": "code",
   "execution_count": 32,
   "id": "3806af92",
   "metadata": {
    "execution": {
     "iopub.execute_input": "2023-01-28T18:21:53.344550Z",
     "iopub.status.busy": "2023-01-28T18:21:53.343145Z",
     "iopub.status.idle": "2023-01-28T18:21:53.348102Z",
     "shell.execute_reply": "2023-01-28T18:21:53.347212Z"
    },
    "papermill": {
     "duration": 0.022082,
     "end_time": "2023-01-28T18:21:53.350037",
     "exception": false,
     "start_time": "2023-01-28T18:21:53.327955",
     "status": "completed"
    },
    "tags": []
   },
   "outputs": [],
   "source": [
    "del df2['index']"
   ]
  },
  {
   "cell_type": "code",
   "execution_count": 33,
   "id": "3e9d0a51",
   "metadata": {
    "execution": {
     "iopub.execute_input": "2023-01-28T18:21:53.380266Z",
     "iopub.status.busy": "2023-01-28T18:21:53.379471Z",
     "iopub.status.idle": "2023-01-28T18:21:53.700460Z",
     "shell.execute_reply": "2023-01-28T18:21:53.699511Z"
    },
    "papermill": {
     "duration": 0.338294,
     "end_time": "2023-01-28T18:21:53.702764",
     "exception": false,
     "start_time": "2023-01-28T18:21:53.364470",
     "status": "completed"
    },
    "tags": []
   },
   "outputs": [
    {
     "data": {
      "text/plain": [
       "<AxesSubplot:>"
      ]
     },
     "execution_count": 33,
     "metadata": {},
     "output_type": "execute_result"
    },
    {
     "data": {
      "image/png": "[encoded data removed]",
      "text/plain": [
       "<Figure size 432x288 with 1 Axes>"
      ]
     },
     "metadata": {
      "needs_background": "light"
     },
     "output_type": "display_data"
    }
   ],
   "source": [
    "df.retail_price.hist()"
   ]
  },
  {
   "cell_type": "code",
   "execution_count": 34,
   "id": "3bb846f3",
   "metadata": {
    "execution": {
     "iopub.execute_input": "2023-01-28T18:21:53.735598Z",
     "iopub.status.busy": "2023-01-28T18:21:53.734649Z",
     "iopub.status.idle": "2023-01-28T18:21:53.741741Z",
     "shell.execute_reply": "2023-01-28T18:21:53.740786Z"
    },
    "papermill": {
     "duration": 0.025979,
     "end_time": "2023-01-28T18:21:53.744000",
     "exception": false,
     "start_time": "2023-01-28T18:21:53.718021",
     "status": "completed"
    },
    "tags": []
   },
   "outputs": [],
   "source": [
    "df['retail_price']=df.pop('retail_price')"
   ]
  },
  {
   "cell_type": "code",
   "execution_count": 35,
   "id": "8ed0774a",
   "metadata": {
    "execution": {
     "iopub.execute_input": "2023-01-28T18:21:53.775319Z",
     "iopub.status.busy": "2023-01-28T18:21:53.774454Z",
     "iopub.status.idle": "2023-01-28T18:21:53.781954Z",
     "shell.execute_reply": "2023-01-28T18:21:53.780979Z"
    },
    "papermill": {
     "duration": 0.025111,
     "end_time": "2023-01-28T18:21:53.783969",
     "exception": false,
     "start_time": "2023-01-28T18:21:53.758858",
     "status": "completed"
    },
    "tags": []
   },
   "outputs": [],
   "source": [
    "features_with_na = [features for features in df.columns if df[features].isnull().sum() > 1]\n",
    "\n",
    "for feature in features_with_na:\n",
    "    print(feature, np.round(df[feature].isnull().mean(), 4), ' % missing values')"
   ]
  },
  {
   "cell_type": "code",
   "execution_count": 36,
   "id": "73ed3dec",
   "metadata": {
    "execution": {
     "iopub.execute_input": "2023-01-28T18:21:53.826315Z",
     "iopub.status.busy": "2023-01-28T18:21:53.825217Z",
     "iopub.status.idle": "2023-01-28T18:21:53.831669Z",
     "shell.execute_reply": "2023-01-28T18:21:53.830764Z"
    },
    "papermill": {
     "duration": 0.026128,
     "end_time": "2023-01-28T18:21:53.833821",
     "exception": false,
     "start_time": "2023-01-28T18:21:53.807693",
     "status": "completed"
    },
    "tags": []
   },
   "outputs": [],
   "source": [
    "for feature in features_with_na:\n",
    "    data = df.copy()\n",
    "    \n",
    "    # Let's make a variable that indicates 1 if observation was missing else 0\n",
    "    data[feature] = np.where(data[feature].isnull(), 1, 0)\n",
    "    \n",
    "    # Let's calculate the mean SalePrice where the information is missing or present\n",
    "    data.groupby(feature)['retail_price'].median().plot.bar()\n",
    "    plt.title(feature)\n",
    "    plt.show()"
   ]
  },
  {
   "cell_type": "code",
   "execution_count": 37,
   "id": "0477963f",
   "metadata": {
    "execution": {
     "iopub.execute_input": "2023-01-28T18:21:53.865912Z",
     "iopub.status.busy": "2023-01-28T18:21:53.864283Z",
     "iopub.status.idle": "2023-01-28T18:21:53.877315Z",
     "shell.execute_reply": "2023-01-28T18:21:53.876318Z"
    },
    "papermill": {
     "duration": 0.030684,
     "end_time": "2023-01-28T18:21:53.879378",
     "exception": false,
     "start_time": "2023-01-28T18:21:53.848694",
     "status": "completed"
    },
    "tags": []
   },
   "outputs": [
    {
     "data": {
      "text/html": [
       "<div>\n",
       "<style scoped>\n",
       "    .dataframe tbody tr th:only-of-type {\n",
       "        vertical-align: middle;\n",
       "    }\n",
       "\n",
       "    .dataframe tbody tr th {\n",
       "        vertical-align: top;\n",
       "    }\n",
       "\n",
       "    .dataframe thead th {\n",
       "        text-align: right;\n",
       "    }\n",
       "</style>\n",
       "<table border=\"1\" class=\"dataframe\">\n",
       "  <thead>\n",
       "    <tr style=\"text-align: right;\">\n",
       "      <th></th>\n",
       "      <th>rooms</th>\n",
       "      <th>address</th>\n",
       "      <th>city</th>\n",
       "      <th>sqft</th>\n",
       "      <th>toilets</th>\n",
       "      <th>image_id</th>\n",
       "      <th>retail_price</th>\n",
       "    </tr>\n",
       "  </thead>\n",
       "  <tbody>\n",
       "    <tr>\n",
       "      <th>0</th>\n",
       "      <td>2.0</td>\n",
       "      <td>2</td>\n",
       "      <td>0</td>\n",
       "      <td>1295.0</td>\n",
       "      <td>2.0</td>\n",
       "      <td>5832</td>\n",
       "      <td>299000</td>\n",
       "    </tr>\n",
       "    <tr>\n",
       "      <th>1</th>\n",
       "      <td>3.0</td>\n",
       "      <td>3</td>\n",
       "      <td>1</td>\n",
       "      <td>1566.0</td>\n",
       "      <td>2.0</td>\n",
       "      <td>5584</td>\n",
       "      <td>299000</td>\n",
       "    </tr>\n",
       "    <tr>\n",
       "      <th>2</th>\n",
       "      <td>5.0</td>\n",
       "      <td>2</td>\n",
       "      <td>2</td>\n",
       "      <td>3068.0</td>\n",
       "      <td>3.0</td>\n",
       "      <td>9408</td>\n",
       "      <td>499990</td>\n",
       "    </tr>\n",
       "    <tr>\n",
       "      <th>3</th>\n",
       "      <td>4.0</td>\n",
       "      <td>3</td>\n",
       "      <td>3</td>\n",
       "      <td>2230.0</td>\n",
       "      <td>2.1</td>\n",
       "      <td>4644</td>\n",
       "      <td>849900</td>\n",
       "    </tr>\n",
       "    <tr>\n",
       "      <th>4</th>\n",
       "      <td>3.0</td>\n",
       "      <td>1</td>\n",
       "      <td>4</td>\n",
       "      <td>1898.0</td>\n",
       "      <td>2.0</td>\n",
       "      <td>5739</td>\n",
       "      <td>333490</td>\n",
       "    </tr>\n",
       "  </tbody>\n",
       "</table>\n",
       "</div>"
      ],
      "text/plain": [
       "   rooms  address  city    sqft  toilets  image_id  retail_price\n",
       "0    2.0        2     0  1295.0      2.0      5832        299000\n",
       "1    3.0        3     1  1566.0      2.0      5584        299000\n",
       "2    5.0        2     2  3068.0      3.0      9408        499990\n",
       "3    4.0        3     3  2230.0      2.1      4644        849900\n",
       "4    3.0        1     4  1898.0      2.0      5739        333490"
      ]
     },
     "execution_count": 37,
     "metadata": {},
     "output_type": "execute_result"
    }
   ],
   "source": [
    "df.head()"
   ]
  },
  {
   "cell_type": "code",
   "execution_count": 38,
   "id": "fdce9326",
   "metadata": {
    "execution": {
     "iopub.execute_input": "2023-01-28T18:21:53.910395Z",
     "iopub.status.busy": "2023-01-28T18:21:53.909592Z",
     "iopub.status.idle": "2023-01-28T18:21:53.920691Z",
     "shell.execute_reply": "2023-01-28T18:21:53.919697Z"
    },
    "papermill": {
     "duration": 0.028803,
     "end_time": "2023-01-28T18:21:53.922966",
     "exception": false,
     "start_time": "2023-01-28T18:21:53.894163",
     "status": "completed"
    },
    "tags": []
   },
   "outputs": [
    {
     "data": {
      "text/html": [
       "<div>\n",
       "<style scoped>\n",
       "    .dataframe tbody tr th:only-of-type {\n",
       "        vertical-align: middle;\n",
       "    }\n",
       "\n",
       "    .dataframe tbody tr th {\n",
       "        vertical-align: top;\n",
       "    }\n",
       "\n",
       "    .dataframe thead th {\n",
       "        text-align: right;\n",
       "    }\n",
       "</style>\n",
       "<table border=\"1\" class=\"dataframe\">\n",
       "  <thead>\n",
       "    <tr style=\"text-align: right;\">\n",
       "      <th></th>\n",
       "      <th>rooms</th>\n",
       "      <th>address</th>\n",
       "      <th>city</th>\n",
       "      <th>sqft</th>\n",
       "      <th>toilets</th>\n",
       "      <th>image_id</th>\n",
       "    </tr>\n",
       "  </thead>\n",
       "  <tbody>\n",
       "    <tr>\n",
       "      <th>0</th>\n",
       "      <td>3</td>\n",
       "      <td>1</td>\n",
       "      <td>0</td>\n",
       "      <td>1510</td>\n",
       "      <td>2.0</td>\n",
       "      <td>3076</td>\n",
       "    </tr>\n",
       "    <tr>\n",
       "      <th>1</th>\n",
       "      <td>4</td>\n",
       "      <td>1</td>\n",
       "      <td>1</td>\n",
       "      <td>2342</td>\n",
       "      <td>3.0</td>\n",
       "      <td>3218</td>\n",
       "    </tr>\n",
       "    <tr>\n",
       "      <th>2</th>\n",
       "      <td>2</td>\n",
       "      <td>1</td>\n",
       "      <td>2</td>\n",
       "      <td>2845</td>\n",
       "      <td>3.0</td>\n",
       "      <td>9213</td>\n",
       "    </tr>\n",
       "    <tr>\n",
       "      <th>3</th>\n",
       "      <td>4</td>\n",
       "      <td>1</td>\n",
       "      <td>3</td>\n",
       "      <td>2379</td>\n",
       "      <td>3.0</td>\n",
       "      <td>10018</td>\n",
       "    </tr>\n",
       "    <tr>\n",
       "      <th>4</th>\n",
       "      <td>4</td>\n",
       "      <td>1</td>\n",
       "      <td>4</td>\n",
       "      <td>1836</td>\n",
       "      <td>3.0</td>\n",
       "      <td>11355</td>\n",
       "    </tr>\n",
       "  </tbody>\n",
       "</table>\n",
       "</div>"
      ],
      "text/plain": [
       "   rooms  address  city  sqft  toilets  image_id\n",
       "0      3        1     0  1510      2.0      3076\n",
       "1      4        1     1  2342      3.0      3218\n",
       "2      2        1     2  2845      3.0      9213\n",
       "3      4        1     3  2379      3.0     10018\n",
       "4      4        1     4  1836      3.0     11355"
      ]
     },
     "execution_count": 38,
     "metadata": {},
     "output_type": "execute_result"
    }
   ],
   "source": [
    "df2.head()"
   ]
  },
  {
   "cell_type": "code",
   "execution_count": 39,
   "id": "d5948f66",
   "metadata": {
    "execution": {
     "iopub.execute_input": "2023-01-28T18:21:53.954391Z",
     "iopub.status.busy": "2023-01-28T18:21:53.954111Z",
     "iopub.status.idle": "2023-01-28T18:21:53.960048Z",
     "shell.execute_reply": "2023-01-28T18:21:53.959201Z"
    },
    "papermill": {
     "duration": 0.023352,
     "end_time": "2023-01-28T18:21:53.962037",
     "exception": false,
     "start_time": "2023-01-28T18:21:53.938685",
     "status": "completed"
    },
    "tags": []
   },
   "outputs": [],
   "source": [
    "df_features = df.iloc[:, :-1]\n",
    "df_labels = df.iloc[:, [-1]]"
   ]
  },
  {
   "cell_type": "code",
   "execution_count": 40,
   "id": "b19d8078",
   "metadata": {
    "execution": {
     "iopub.execute_input": "2023-01-28T18:21:53.992960Z",
     "iopub.status.busy": "2023-01-28T18:21:53.992200Z",
     "iopub.status.idle": "2023-01-28T18:21:53.996479Z",
     "shell.execute_reply": "2023-01-28T18:21:53.995568Z"
    },
    "papermill": {
     "duration": 0.021742,
     "end_time": "2023-01-28T18:21:53.998381",
     "exception": false,
     "start_time": "2023-01-28T18:21:53.976639",
     "status": "completed"
    },
    "tags": []
   },
   "outputs": [],
   "source": [
    "df_features_test=df2.iloc[:,:]"
   ]
  },
  {
   "cell_type": "code",
   "execution_count": 41,
   "id": "99c686dc",
   "metadata": {
    "execution": {
     "iopub.execute_input": "2023-01-28T18:21:54.029859Z",
     "iopub.status.busy": "2023-01-28T18:21:54.029105Z",
     "iopub.status.idle": "2023-01-28T18:21:54.034267Z",
     "shell.execute_reply": "2023-01-28T18:21:54.033288Z"
    },
    "papermill": {
     "duration": 0.022709,
     "end_time": "2023-01-28T18:21:54.036252",
     "exception": false,
     "start_time": "2023-01-28T18:21:54.013543",
     "status": "completed"
    },
    "tags": []
   },
   "outputs": [],
   "source": [
    "tab_features = df_features.to_numpy()\n",
    "labels = df_labels.to_numpy()"
   ]
  },
  {
   "cell_type": "code",
   "execution_count": 42,
   "id": "d11bd7a0",
   "metadata": {
    "execution": {
     "iopub.execute_input": "2023-01-28T18:21:54.067128Z",
     "iopub.status.busy": "2023-01-28T18:21:54.066685Z",
     "iopub.status.idle": "2023-01-28T18:21:54.071296Z",
     "shell.execute_reply": "2023-01-28T18:21:54.070453Z"
    },
    "papermill": {
     "duration": 0.022047,
     "end_time": "2023-01-28T18:21:54.073300",
     "exception": false,
     "start_time": "2023-01-28T18:21:54.051253",
     "status": "completed"
    },
    "tags": []
   },
   "outputs": [],
   "source": [
    "tab_features_test = df_features_test.to_numpy()"
   ]
  },
  {
   "cell_type": "code",
   "execution_count": 43,
   "id": "4ad4141c",
   "metadata": {
    "execution": {
     "iopub.execute_input": "2023-01-28T18:21:54.105707Z",
     "iopub.status.busy": "2023-01-28T18:21:54.104980Z",
     "iopub.status.idle": "2023-01-28T18:22:50.592107Z",
     "shell.execute_reply": "2023-01-28T18:22:50.590935Z"
    },
    "papermill": {
     "duration": 56.505445,
     "end_time": "2023-01-28T18:22:50.594601",
     "exception": false,
     "start_time": "2023-01-28T18:21:54.089156",
     "status": "completed"
    },
    "tags": []
   },
   "outputs": [],
   "source": [
    "img_dir = '/kaggle/input/mine-the-model-celesta-2023/train_images/train'\n",
    "\n",
    "img_height = 128\n",
    "img_width = 128\n",
    "\n",
    "files = os.listdir(img_dir)\n",
    "files.sort(key=lambda x: int(x.split('.')[0]))\n",
    "\n",
    "img_list = []\n",
    "\n",
    "for file in files:\n",
    "    img = cv2.imread(os.path.join(img_dir, file))\n",
    "    img = cv2.resize(img,(img_height, img_width))\n",
    "    img_list.append(img)\n",
    "    \n",
    "img_features = np.asarray(img_list)"
   ]
  },
  {
   "cell_type": "code",
   "execution_count": 44,
   "id": "a513490c",
   "metadata": {
    "execution": {
     "iopub.execute_input": "2023-01-28T18:22:50.627580Z",
     "iopub.status.busy": "2023-01-28T18:22:50.625889Z",
     "iopub.status.idle": "2023-01-28T18:23:14.667402Z",
     "shell.execute_reply": "2023-01-28T18:23:14.666396Z"
    },
    "papermill": {
     "duration": 24.060053,
     "end_time": "2023-01-28T18:23:14.669927",
     "exception": false,
     "start_time": "2023-01-28T18:22:50.609874",
     "status": "completed"
    },
    "tags": []
   },
   "outputs": [],
   "source": [
    "img_dir = '/kaggle/input/mine-the-model-celesta-2023/test_images/test'\n",
    "\n",
    "img_height = 128\n",
    "img_width = 128\n",
    "\n",
    "files = os.listdir(img_dir)\n",
    "files.sort(key=lambda x: int(x.split('.')[0]))\n",
    "\n",
    "img_list = []\n",
    "\n",
    "for file in files:\n",
    "    img = cv2.imread(os.path.join(img_dir, file))\n",
    "    img = cv2.resize(img,(img_height, img_width))\n",
    "    img_list.append(img)\n",
    "    \n",
    "img_features_test = np.asarray(img_list)"
   ]
  },
  {
   "cell_type": "code",
   "execution_count": 45,
   "id": "1b2f668e",
   "metadata": {
    "execution": {
     "iopub.execute_input": "2023-01-28T18:23:14.701359Z",
     "iopub.status.busy": "2023-01-28T18:23:14.701051Z",
     "iopub.status.idle": "2023-01-28T18:23:14.706658Z",
     "shell.execute_reply": "2023-01-28T18:23:14.705784Z"
    },
    "papermill": {
     "duration": 0.023442,
     "end_time": "2023-01-28T18:23:14.708555",
     "exception": false,
     "start_time": "2023-01-28T18:23:14.685113",
     "status": "completed"
    },
    "tags": []
   },
   "outputs": [
    {
     "data": {
      "text/plain": [
       "8400"
      ]
     },
     "execution_count": 45,
     "metadata": {},
     "output_type": "execute_result"
    }
   ],
   "source": [
    "len(img_features)"
   ]
  },
  {
   "cell_type": "code",
   "execution_count": 46,
   "id": "353b537d",
   "metadata": {
    "execution": {
     "iopub.execute_input": "2023-01-28T18:23:14.739401Z",
     "iopub.status.busy": "2023-01-28T18:23:14.738758Z",
     "iopub.status.idle": "2023-01-28T18:23:14.744266Z",
     "shell.execute_reply": "2023-01-28T18:23:14.743398Z"
    },
    "papermill": {
     "duration": 0.023074,
     "end_time": "2023-01-28T18:23:14.746144",
     "exception": false,
     "start_time": "2023-01-28T18:23:14.723070",
     "status": "completed"
    },
    "tags": []
   },
   "outputs": [
    {
     "data": {
      "text/plain": [
       "3601"
      ]
     },
     "execution_count": 46,
     "metadata": {},
     "output_type": "execute_result"
    }
   ],
   "source": [
    "len(img_features_test)"
   ]
  },
  {
   "cell_type": "code",
   "execution_count": 47,
   "id": "3103b41f",
   "metadata": {
    "execution": {
     "iopub.execute_input": "2023-01-28T18:23:14.777918Z",
     "iopub.status.busy": "2023-01-28T18:23:14.777105Z",
     "iopub.status.idle": "2023-01-28T18:23:14.902708Z",
     "shell.execute_reply": "2023-01-28T18:23:14.901741Z"
    },
    "papermill": {
     "duration": 0.14395,
     "end_time": "2023-01-28T18:23:14.905263",
     "exception": false,
     "start_time": "2023-01-28T18:23:14.761313",
     "status": "completed"
    },
    "tags": []
   },
   "outputs": [],
   "source": [
    "rng = np.random.default_rng(seed=13)\n",
    "\n",
    "size = len(tab_features)\n",
    "\n",
    "p = rng.permutation(size)\n",
    "\n",
    "tab_features = tab_features[p]\n",
    "img_features = img_features[p]\n",
    "labels = labels[p]"
   ]
  },
  {
   "cell_type": "code",
   "execution_count": 48,
   "id": "1663ce46",
   "metadata": {
    "execution": {
     "iopub.execute_input": "2023-01-28T18:23:14.937117Z",
     "iopub.status.busy": "2023-01-28T18:23:14.936820Z",
     "iopub.status.idle": "2023-01-28T18:23:14.994946Z",
     "shell.execute_reply": "2023-01-28T18:23:14.993909Z"
    },
    "papermill": {
     "duration": 0.076847,
     "end_time": "2023-01-28T18:23:14.997546",
     "exception": false,
     "start_time": "2023-01-28T18:23:14.920699",
     "status": "completed"
    },
    "tags": []
   },
   "outputs": [],
   "source": [
    "rng = np.random.default_rng(seed=13)\n",
    "\n",
    "size = len(tab_features_test)\n",
    "\n",
    "p = rng.permutation(size)\n",
    "\n",
    "tab_features_test = tab_features_test[p]\n",
    "img_features_test = img_features_test[p]"
   ]
  },
  {
   "cell_type": "code",
   "execution_count": 49,
   "id": "64ee8e17",
   "metadata": {
    "execution": {
     "iopub.execute_input": "2023-01-28T18:23:15.029943Z",
     "iopub.status.busy": "2023-01-28T18:23:15.029563Z",
     "iopub.status.idle": "2023-01-28T18:23:15.036671Z",
     "shell.execute_reply": "2023-01-28T18:23:15.035710Z"
    },
    "papermill": {
     "duration": 0.025648,
     "end_time": "2023-01-28T18:23:15.038734",
     "exception": false,
     "start_time": "2023-01-28T18:23:15.013086",
     "status": "completed"
    },
    "tags": []
   },
   "outputs": [
    {
     "data": {
      "text/plain": [
       "3601"
      ]
     },
     "execution_count": 49,
     "metadata": {},
     "output_type": "execute_result"
    }
   ],
   "source": [
    "len(img_features_test)"
   ]
  },
  {
   "cell_type": "code",
   "execution_count": 50,
   "id": "81c32453",
   "metadata": {
    "execution": {
     "iopub.execute_input": "2023-01-28T18:23:15.070189Z",
     "iopub.status.busy": "2023-01-28T18:23:15.069913Z",
     "iopub.status.idle": "2023-01-28T18:23:15.076412Z",
     "shell.execute_reply": "2023-01-28T18:23:15.075389Z"
    },
    "papermill": {
     "duration": 0.024604,
     "end_time": "2023-01-28T18:23:15.078588",
     "exception": false,
     "start_time": "2023-01-28T18:23:15.053984",
     "status": "completed"
    },
    "tags": []
   },
   "outputs": [],
   "source": [
    "val_idx = int(size * 0.6)\n",
    "test_idx = int(size * 0.8)\n",
    "\n",
    "X_tab_train, X_tab_val, X_tab_test = np.split(tab_features, [val_idx, test_idx])\n",
    "X_img_train, X_img_val, X_img_test = np.split(img_features, [val_idx, test_idx])\n",
    "y_train, y_val, y_test = np.split(labels, [val_idx, test_idx])"
   ]
  },
  {
   "cell_type": "code",
   "execution_count": 51,
   "id": "9e0ec5a6",
   "metadata": {
    "execution": {
     "iopub.execute_input": "2023-01-28T18:23:15.110074Z",
     "iopub.status.busy": "2023-01-28T18:23:15.109806Z",
     "iopub.status.idle": "2023-01-28T18:23:17.720780Z",
     "shell.execute_reply": "2023-01-28T18:23:17.718768Z"
    },
    "papermill": {
     "duration": 2.62937,
     "end_time": "2023-01-28T18:23:17.723537",
     "exception": false,
     "start_time": "2023-01-28T18:23:15.094167",
     "status": "completed"
    },
    "tags": []
   },
   "outputs": [
    {
     "name": "stderr",
     "output_type": "stream",
     "text": [
      "2023-01-28 18:23:15.212574: I tensorflow/stream_executor/cuda/cuda_gpu_executor.cc:937] successful NUMA node read from SysFS had negative value (-1), but there must be at least one NUMA node, so returning NUMA node zero\n",
      "2023-01-28 18:23:15.307165: I tensorflow/stream_executor/cuda/cuda_gpu_executor.cc:937] successful NUMA node read from SysFS had negative value (-1), but there must be at least one NUMA node, so returning NUMA node zero\n",
      "2023-01-28 18:23:15.307986: I tensorflow/stream_executor/cuda/cuda_gpu_executor.cc:937] successful NUMA node read from SysFS had negative value (-1), but there must be at least one NUMA node, so returning NUMA node zero\n",
      "2023-01-28 18:23:15.309143: I tensorflow/core/platform/cpu_feature_guard.cc:142] This TensorFlow binary is optimized with oneAPI Deep Neural Network Library (oneDNN) to use the following CPU instructions in performance-critical operations:  AVX2 AVX512F FMA\n",
      "To enable them in other operations, rebuild TensorFlow with the appropriate compiler flags.\n",
      "2023-01-28 18:23:15.309436: I tensorflow/stream_executor/cuda/cuda_gpu_executor.cc:937] successful NUMA node read from SysFS had negative value (-1), but there must be at least one NUMA node, so returning NUMA node zero\n",
      "2023-01-28 18:23:15.310159: I tensorflow/stream_executor/cuda/cuda_gpu_executor.cc:937] successful NUMA node read from SysFS had negative value (-1), but there must be at least one NUMA node, so returning NUMA node zero\n",
      "2023-01-28 18:23:15.310825: I tensorflow/stream_executor/cuda/cuda_gpu_executor.cc:937] successful NUMA node read from SysFS had negative value (-1), but there must be at least one NUMA node, so returning NUMA node zero\n",
      "2023-01-28 18:23:17.333364: I tensorflow/stream_executor/cuda/cuda_gpu_executor.cc:937] successful NUMA node read from SysFS had negative value (-1), but there must be at least one NUMA node, so returning NUMA node zero\n",
      "2023-01-28 18:23:17.334260: I tensorflow/stream_executor/cuda/cuda_gpu_executor.cc:937] successful NUMA node read from SysFS had negative value (-1), but there must be at least one NUMA node, so returning NUMA node zero\n",
      "2023-01-28 18:23:17.334934: I tensorflow/stream_executor/cuda/cuda_gpu_executor.cc:937] successful NUMA node read from SysFS had negative value (-1), but there must be at least one NUMA node, so returning NUMA node zero\n",
      "2023-01-28 18:23:17.335519: I tensorflow/core/common_runtime/gpu/gpu_device.cc:1510] Created device /job:localhost/replica:0/task:0/device:GPU:0 with 15401 MB memory:  -> device: 0, name: Tesla P100-PCIE-16GB, pci bus id: 0000:00:04.0, compute capability: 6.0\n"
     ]
    }
   ],
   "source": [
    "input_tab = Input(X_tab_train.shape[1])\n",
    "x_tab = Dense(1024, activation='relu')(input_tab)\n",
    "x_tab = Dense(1024, activation='relu')(x_tab)\n",
    "\n",
    "model_tab = Model(input_tab, x_tab)"
   ]
  },
  {
   "cell_type": "code",
   "execution_count": 52,
   "id": "36176b4f",
   "metadata": {
    "execution": {
     "iopub.execute_input": "2023-01-28T18:23:17.755593Z",
     "iopub.status.busy": "2023-01-28T18:23:17.755302Z",
     "iopub.status.idle": "2023-01-28T18:23:17.931124Z",
     "shell.execute_reply": "2023-01-28T18:23:17.930201Z"
    },
    "papermill": {
     "duration": 0.194146,
     "end_time": "2023-01-28T18:23:17.933504",
     "exception": false,
     "start_time": "2023-01-28T18:23:17.739358",
     "status": "completed"
    },
    "tags": []
   },
   "outputs": [],
   "source": [
    "input_img = Input((img_height, img_width, 3))\n",
    "x_img = Rescaling(1./255)(input_img)\n",
    "x_img = Conv2D(64, 3, padding='same', activation='relu')(x_img)\n",
    "x_img = Conv2D(64, 3, padding='same', activation='relu')(x_img)\n",
    "x_img = MaxPooling2D(padding='same')(x_img)\n",
    "x_img = BatchNormalization()(x_img)\n",
    "x_img = Conv2D(128, 3, padding='same', activation='relu')(x_img)\n",
    "x_img = Conv2D(128, 3, padding='same', activation='relu')(x_img)\n",
    "x_img = MaxPooling2D(padding='same')(x_img)\n",
    "x_img = BatchNormalization()(x_img)\n",
    "x_img = Conv2D(256, 3, padding='same', activation='relu')(x_img)\n",
    "x_img = Conv2D(256, 3, padding='same', activation='relu')(x_img)\n",
    "x_img = Conv2D(256, 3, padding='same', activation='relu')(x_img)\n",
    "x_img = MaxPooling2D(padding='same')(x_img)\n",
    "x_img = BatchNormalization()(x_img)\n",
    "x_img = Conv2D(512, 3, padding='same', activation='relu')(x_img)\n",
    "x_img = Conv2D(512, 3, padding='same', activation='relu')(x_img)\n",
    "x_img = Conv2D(512, 3, padding='same', activation='relu')(x_img)\n",
    "x_img = MaxPooling2D(padding='same')(x_img)\n",
    "x_img = BatchNormalization()(x_img)\n",
    "x_img = Conv2D(1024, 3, padding='same', activation='relu')(x_img)\n",
    "x_img = Conv2D(1024, 3, padding='same', activation='relu')(x_img)\n",
    "x_img = Conv2D(1024, 3, padding='same', activation='relu')(x_img)\n",
    "x_img = MaxPooling2D(padding='same')(x_img)\n",
    "x_img = BatchNormalization()(x_img)\n",
    "x_img = Dropout(0.25)(x_img)\n",
    "x_img = Flatten()(x_img)\n",
    "x_img = Dense(1024, activation='relu')(x_img)\n",
    "x_img = Dense(1024, activation='relu')(x_img)\n",
    "\n",
    "model_img = Model(input_img, x_img)"
   ]
  },
  {
   "cell_type": "code",
   "execution_count": 53,
   "id": "0770b813",
   "metadata": {
    "execution": {
     "iopub.execute_input": "2023-01-28T18:23:17.965270Z",
     "iopub.status.busy": "2023-01-28T18:23:17.964975Z",
     "iopub.status.idle": "2023-01-28T18:23:18.008289Z",
     "shell.execute_reply": "2023-01-28T18:23:18.007270Z"
    },
    "papermill": {
     "duration": 0.06304,
     "end_time": "2023-01-28T18:23:18.012064",
     "exception": false,
     "start_time": "2023-01-28T18:23:17.949024",
     "status": "completed"
    },
    "tags": []
   },
   "outputs": [
    {
     "name": "stdout",
     "output_type": "stream",
     "text": [
      "Model: \"model_2\"\n",
      "__________________________________________________________________________________________________\n",
      "Layer (type)                    Output Shape         Param #     Connected to                     \n",
      "==================================================================================================\n",
      "input_2 (InputLayer)            [(None, 128, 128, 3) 0                                            \n",
      "__________________________________________________________________________________________________\n",
      "rescaling (Rescaling)           (None, 128, 128, 3)  0           input_2[0][0]                    \n",
      "__________________________________________________________________________________________________\n",
      "conv2d (Conv2D)                 (None, 128, 128, 64) 1792        rescaling[0][0]                  \n",
      "__________________________________________________________________________________________________\n",
      "conv2d_1 (Conv2D)               (None, 128, 128, 64) 36928       conv2d[0][0]                     \n",
      "__________________________________________________________________________________________________\n",
      "max_pooling2d (MaxPooling2D)    (None, 64, 64, 64)   0           conv2d_1[0][0]                   \n",
      "__________________________________________________________________________________________________\n",
      "batch_normalization (BatchNorma (None, 64, 64, 64)   256         max_pooling2d[0][0]              \n",
      "__________________________________________________________________________________________________\n",
      "conv2d_2 (Conv2D)               (None, 64, 64, 128)  73856       batch_normalization[0][0]        \n",
      "__________________________________________________________________________________________________\n",
      "conv2d_3 (Conv2D)               (None, 64, 64, 128)  147584      conv2d_2[0][0]                   \n",
      "__________________________________________________________________________________________________\n",
      "max_pooling2d_1 (MaxPooling2D)  (None, 32, 32, 128)  0           conv2d_3[0][0]                   \n",
      "__________________________________________________________________________________________________\n",
      "batch_normalization_1 (BatchNor (None, 32, 32, 128)  512         max_pooling2d_1[0][0]            \n",
      "__________________________________________________________________________________________________\n",
      "conv2d_4 (Conv2D)               (None, 32, 32, 256)  295168      batch_normalization_1[0][0]      \n",
      "__________________________________________________________________________________________________\n",
      "conv2d_5 (Conv2D)               (None, 32, 32, 256)  590080      conv2d_4[0][0]                   \n",
      "__________________________________________________________________________________________________\n",
      "conv2d_6 (Conv2D)               (None, 32, 32, 256)  590080      conv2d_5[0][0]                   \n",
      "__________________________________________________________________________________________________\n",
      "max_pooling2d_2 (MaxPooling2D)  (None, 16, 16, 256)  0           conv2d_6[0][0]                   \n",
      "__________________________________________________________________________________________________\n",
      "batch_normalization_2 (BatchNor (None, 16, 16, 256)  1024        max_pooling2d_2[0][0]            \n",
      "__________________________________________________________________________________________________\n",
      "conv2d_7 (Conv2D)               (None, 16, 16, 512)  1180160     batch_normalization_2[0][0]      \n",
      "__________________________________________________________________________________________________\n",
      "conv2d_8 (Conv2D)               (None, 16, 16, 512)  2359808     conv2d_7[0][0]                   \n",
      "__________________________________________________________________________________________________\n",
      "conv2d_9 (Conv2D)               (None, 16, 16, 512)  2359808     conv2d_8[0][0]                   \n",
      "__________________________________________________________________________________________________\n",
      "max_pooling2d_3 (MaxPooling2D)  (None, 8, 8, 512)    0           conv2d_9[0][0]                   \n",
      "__________________________________________________________________________________________________\n",
      "batch_normalization_3 (BatchNor (None, 8, 8, 512)    2048        max_pooling2d_3[0][0]            \n",
      "__________________________________________________________________________________________________\n",
      "conv2d_10 (Conv2D)              (None, 8, 8, 1024)   4719616     batch_normalization_3[0][0]      \n",
      "__________________________________________________________________________________________________\n",
      "conv2d_11 (Conv2D)              (None, 8, 8, 1024)   9438208     conv2d_10[0][0]                  \n",
      "__________________________________________________________________________________________________\n",
      "conv2d_12 (Conv2D)              (None, 8, 8, 1024)   9438208     conv2d_11[0][0]                  \n",
      "__________________________________________________________________________________________________\n",
      "max_pooling2d_4 (MaxPooling2D)  (None, 4, 4, 1024)   0           conv2d_12[0][0]                  \n",
      "__________________________________________________________________________________________________\n",
      "batch_normalization_4 (BatchNor (None, 4, 4, 1024)   4096        max_pooling2d_4[0][0]            \n",
      "__________________________________________________________________________________________________\n",
      "dropout (Dropout)               (None, 4, 4, 1024)   0           batch_normalization_4[0][0]      \n",
      "__________________________________________________________________________________________________\n",
      "input_1 (InputLayer)            [(None, 6)]          0                                            \n",
      "__________________________________________________________________________________________________\n",
      "flatten (Flatten)               (None, 16384)        0           dropout[0][0]                    \n",
      "__________________________________________________________________________________________________\n",
      "dense (Dense)                   (None, 1024)         7168        input_1[0][0]                    \n",
      "__________________________________________________________________________________________________\n",
      "dense_2 (Dense)                 (None, 1024)         16778240    flatten[0][0]                    \n",
      "__________________________________________________________________________________________________\n",
      "dense_1 (Dense)                 (None, 1024)         1049600     dense[0][0]                      \n",
      "__________________________________________________________________________________________________\n",
      "dense_3 (Dense)                 (None, 1024)         1049600     dense_2[0][0]                    \n",
      "__________________________________________________________________________________________________\n",
      "concatenate (Concatenate)       (None, 2048)         0           dense_1[0][0]                    \n",
      "                                                                 dense_3[0][0]                    \n",
      "__________________________________________________________________________________________________\n",
      "dense_4 (Dense)                 (None, 4096)         8392704     concatenate[0][0]                \n",
      "__________________________________________________________________________________________________\n",
      "dropout_1 (Dropout)             (None, 4096)         0           dense_4[0][0]                    \n",
      "__________________________________________________________________________________________________\n",
      "dense_5 (Dense)                 (None, 4096)         16781312    dropout_1[0][0]                  \n",
      "__________________________________________________________________________________________________\n",
      "dense_6 (Dense)                 (None, 1)            4097        dense_5[0][0]                    \n",
      "==================================================================================================\n",
      "Total params: 75,301,953\n",
      "Trainable params: 75,297,985\n",
      "Non-trainable params: 3,968\n",
      "__________________________________________________________________________________________________\n"
     ]
    }
   ],
   "source": [
    "input = Concatenate()([model_tab.output, model_img.output])\n",
    "x = Dense(4096, activation='relu')(input)\n",
    "x = Dropout(0.1)(x)\n",
    "x = Dense(4096, activation='relu')(x)\n",
    "x = Dense(1, activation='linear')(x)\n",
    "\n",
    "model = Model([model_tab.input, model_img.input], x)\n",
    "\n",
    "model.compile(optimizer='adam', loss='mse',metrics=['mae', 'mape'])\n",
    "\n",
    "model.summary()"
   ]
  },
  {
   "cell_type": "code",
   "execution_count": 54,
   "id": "bd4efa14",
   "metadata": {
    "execution": {
     "iopub.execute_input": "2023-01-28T18:23:18.044797Z",
     "iopub.status.busy": "2023-01-28T18:23:18.044454Z",
     "iopub.status.idle": "2023-01-28T18:28:11.013454Z",
     "shell.execute_reply": "2023-01-28T18:28:11.012144Z"
    },
    "papermill": {
     "duration": 292.988423,
     "end_time": "2023-01-28T18:28:11.016158",
     "exception": false,
     "start_time": "2023-01-28T18:23:18.027735",
     "status": "completed"
    },
    "tags": []
   },
   "outputs": [
    {
     "name": "stderr",
     "output_type": "stream",
     "text": [
      "2023-01-28 18:23:18.379030: I tensorflow/compiler/mlir/mlir_graph_optimization_pass.cc:185] None of the MLIR Optimization Passes are enabled (registered 2)\n"
     ]
    },
    {
     "name": "stdout",
     "output_type": "stream",
     "text": [
      "Epoch 1/100\n"
     ]
    },
    {
     "name": "stderr",
     "output_type": "stream",
     "text": [
      "2023-01-28 18:23:21.557842: I tensorflow/stream_executor/cuda/cuda_dnn.cc:369] Loaded cuDNN version 8005\n"
     ]
    },
    {
     "name": "stdout",
     "output_type": "stream",
     "text": [
      "34/34 [==============================] - 21s 292ms/step - loss: 217939689472.0000 - mae: 343682.2500 - mape: 55.5345 - val_loss: 123012268032.0000 - val_mae: 246635.6719 - val_mape: 37.8052\n",
      "Epoch 2/100\n",
      "34/34 [==============================] - 6s 174ms/step - loss: 107213242368.0000 - mae: 237587.1094 - mape: 40.5106 - val_loss: 616000454656.0000 - val_mae: 722945.8125 - val_mape: 158.4297\n",
      "Epoch 3/100\n",
      "34/34 [==============================] - 6s 179ms/step - loss: 112062808064.0000 - mae: 243396.1094 - mape: 41.1236 - val_loss: 130550439936.0000 - val_mae: 292017.3438 - val_mape: 57.4040\n",
      "Epoch 4/100\n",
      "34/34 [==============================] - 6s 175ms/step - loss: 104958255104.0000 - mae: 234173.3750 - mape: 40.8458 - val_loss: 117339217920.0000 - val_mae: 255323.0625 - val_mape: 44.7378\n",
      "Epoch 5/100\n",
      "34/34 [==============================] - 6s 174ms/step - loss: 101422096384.0000 - mae: 231020.2344 - mape: 40.1110 - val_loss: 132689592320.0000 - val_mae: 246851.6406 - val_mape: 35.2599\n",
      "Epoch 6/100\n",
      "34/34 [==============================] - 6s 174ms/step - loss: 104580366336.0000 - mae: 234879.4062 - mape: 40.3876 - val_loss: 119153352704.0000 - val_mae: 244762.5156 - val_mape: 38.4005\n",
      "Epoch 7/100\n",
      "34/34 [==============================] - 6s 174ms/step - loss: 102312329216.0000 - mae: 232648.4219 - mape: 40.1312 - val_loss: 138861543424.0000 - val_mae: 248808.4219 - val_mape: 32.9947\n",
      "Epoch 8/100\n",
      "34/34 [==============================] - 6s 176ms/step - loss: 99753189376.0000 - mae: 230271.6562 - mape: 39.8024 - val_loss: 116035608576.0000 - val_mae: 244718.3594 - val_mape: 39.3061\n",
      "Epoch 9/100\n",
      "34/34 [==============================] - 6s 174ms/step - loss: 97466589184.0000 - mae: 228292.6875 - mape: 40.1892 - val_loss: 117864824832.0000 - val_mae: 247262.4062 - val_mape: 39.3148\n",
      "Epoch 10/100\n",
      "34/34 [==============================] - 6s 175ms/step - loss: 104250294272.0000 - mae: 236268.5625 - mape: 40.4528 - val_loss: 114644271104.0000 - val_mae: 239544.8594 - val_mape: 38.4361\n",
      "Epoch 11/100\n",
      "34/34 [==============================] - 6s 174ms/step - loss: 97366278144.0000 - mae: 228786.6875 - mape: 39.1290 - val_loss: 119444389888.0000 - val_mae: 260399.0938 - val_mape: 45.7603\n",
      "Epoch 12/100\n",
      "34/34 [==============================] - 6s 175ms/step - loss: 95583166464.0000 - mae: 227105.3125 - mape: 39.6683 - val_loss: 112359022592.0000 - val_mae: 252480.9531 - val_mape: 43.8135\n",
      "Epoch 13/100\n",
      "34/34 [==============================] - 6s 175ms/step - loss: 96428064768.0000 - mae: 228957.2812 - mape: 39.7216 - val_loss: 109966835712.0000 - val_mae: 247206.1094 - val_mape: 42.7680\n",
      "Epoch 14/100\n",
      "34/34 [==============================] - 6s 174ms/step - loss: 92496920576.0000 - mae: 223789.9062 - mape: 39.1634 - val_loss: 111890726912.0000 - val_mae: 235989.4844 - val_mape: 36.5353\n",
      "Epoch 15/100\n",
      "34/34 [==============================] - 6s 174ms/step - loss: 102596468736.0000 - mae: 233898.8281 - mape: 39.8925 - val_loss: 116282933248.0000 - val_mae: 252491.2188 - val_mape: 45.2171\n",
      "Epoch 16/100\n",
      "34/34 [==============================] - 6s 174ms/step - loss: 96010821632.0000 - mae: 226092.2500 - mape: 39.0248 - val_loss: 106715955200.0000 - val_mae: 249136.2031 - val_mape: 43.5031\n",
      "Epoch 17/100\n",
      "34/34 [==============================] - 6s 174ms/step - loss: 92156928000.0000 - mae: 224023.5312 - mape: 39.5065 - val_loss: 111870083072.0000 - val_mae: 225768.4688 - val_mape: 32.1932\n",
      "Epoch 18/100\n",
      "34/34 [==============================] - 6s 174ms/step - loss: 93081534464.0000 - mae: 223186.6094 - mape: 38.3655 - val_loss: 105095815168.0000 - val_mae: 235097.3594 - val_mape: 38.8418\n",
      "Epoch 19/100\n",
      "34/34 [==============================] - 6s 175ms/step - loss: 87644692480.0000 - mae: 215270.8750 - mape: 37.3221 - val_loss: 118539493376.0000 - val_mae: 227930.9375 - val_mape: 31.3594\n",
      "Epoch 20/100\n",
      "34/34 [==============================] - 6s 174ms/step - loss: 86926884864.0000 - mae: 214741.3594 - mape: 37.2246 - val_loss: 101754830848.0000 - val_mae: 237960.2031 - val_mape: 41.3178\n",
      "Epoch 21/100\n",
      "34/34 [==============================] - 6s 174ms/step - loss: 85307613184.0000 - mae: 212212.2656 - mape: 36.6117 - val_loss: 103461371904.0000 - val_mae: 221675.6250 - val_mape: 33.5455\n",
      "Epoch 22/100\n",
      "34/34 [==============================] - 6s 174ms/step - loss: 84464066560.0000 - mae: 209125.6406 - mape: 35.6834 - val_loss: 100102864896.0000 - val_mae: 239999.4688 - val_mape: 41.6994\n",
      "Epoch 23/100\n",
      "34/34 [==============================] - 6s 174ms/step - loss: 83155836928.0000 - mae: 209119.2812 - mape: 36.3501 - val_loss: 100099817472.0000 - val_mae: 223010.4375 - val_mape: 35.5744\n",
      "Epoch 24/100\n",
      "34/34 [==============================] - 6s 175ms/step - loss: 84957904896.0000 - mae: 208926.0469 - mape: 35.7132 - val_loss: 107729207296.0000 - val_mae: 215267.2500 - val_mape: 29.5200\n",
      "Epoch 25/100\n",
      "34/34 [==============================] - 6s 174ms/step - loss: 81129734144.0000 - mae: 205125.6094 - mape: 34.8823 - val_loss: 105360179200.0000 - val_mae: 219709.4062 - val_mape: 31.9403\n",
      "Epoch 26/100\n",
      "34/34 [==============================] - 6s 175ms/step - loss: 78774566912.0000 - mae: 202988.8594 - mape: 34.5959 - val_loss: 91607195648.0000 - val_mae: 217891.7500 - val_mape: 36.0109\n",
      "Epoch 27/100\n",
      "34/34 [==============================] - 6s 174ms/step - loss: 79770386432.0000 - mae: 204136.6250 - mape: 34.7355 - val_loss: 91840446464.0000 - val_mae: 214669.6250 - val_mape: 34.3816\n",
      "Epoch 28/100\n",
      "34/34 [==============================] - 6s 174ms/step - loss: 79070511104.0000 - mae: 202584.9531 - mape: 34.9767 - val_loss: 97641381888.0000 - val_mae: 227075.0938 - val_mape: 37.3976\n",
      "Epoch 29/100\n",
      "34/34 [==============================] - 6s 174ms/step - loss: 77116768256.0000 - mae: 199820.7344 - mape: 34.0633 - val_loss: 109891813376.0000 - val_mae: 220223.5938 - val_mape: 31.2409\n",
      "Epoch 30/100\n",
      "34/34 [==============================] - 6s 174ms/step - loss: 81186529280.0000 - mae: 203734.1875 - mape: 34.3969 - val_loss: 155952545792.0000 - val_mae: 322803.5625 - val_mape: 63.3553\n",
      "Epoch 31/100\n",
      "34/34 [==============================] - 6s 174ms/step - loss: 78528847872.0000 - mae: 199495.0312 - mape: 33.7395 - val_loss: 100794359808.0000 - val_mae: 234467.6406 - val_mape: 39.2160\n",
      "Epoch 32/100\n",
      "34/34 [==============================] - 6s 174ms/step - loss: 74714537984.0000 - mae: 195226.6250 - mape: 33.3111 - val_loss: 107033706496.0000 - val_mae: 234607.2656 - val_mape: 37.7282\n",
      "Epoch 33/100\n",
      "34/34 [==============================] - 6s 174ms/step - loss: 72594350080.0000 - mae: 194490.8750 - mape: 33.4349 - val_loss: 99006996480.0000 - val_mae: 229604.1094 - val_mape: 38.4225\n",
      "Epoch 34/100\n",
      "34/34 [==============================] - 6s 175ms/step - loss: 70853271552.0000 - mae: 189256.3438 - mape: 32.0965 - val_loss: 113539424256.0000 - val_mae: 258018.2812 - val_mape: 46.5964\n",
      "Epoch 35/100\n",
      "34/34 [==============================] - 6s 174ms/step - loss: 68889919488.0000 - mae: 188387.3906 - mape: 32.3301 - val_loss: 116432363520.0000 - val_mae: 227148.0156 - val_mape: 32.4603\n",
      "Epoch 36/100\n",
      "34/34 [==============================] - 6s 174ms/step - loss: 68789985280.0000 - mae: 188444.8125 - mape: 31.6480 - val_loss: 119639785472.0000 - val_mae: 271129.3125 - val_mape: 48.8794\n",
      "Epoch 37/100\n",
      "34/34 [==============================] - 6s 174ms/step - loss: 62537707520.0000 - mae: 180597.1562 - mape: 30.8374 - val_loss: 103944339456.0000 - val_mae: 246568.5625 - val_mape: 44.1902\n",
      "Epoch 38/100\n",
      "34/34 [==============================] - 6s 174ms/step - loss: 57205694464.0000 - mae: 172303.7969 - mape: 29.6325 - val_loss: 112818167808.0000 - val_mae: 251931.6719 - val_mape: 43.8967\n",
      "Epoch 39/100\n",
      "34/34 [==============================] - 6s 174ms/step - loss: 56828342272.0000 - mae: 174385.5781 - mape: 30.6925 - val_loss: 103219666944.0000 - val_mae: 225246.2812 - val_mape: 35.6768\n",
      "Epoch 40/100\n",
      "34/34 [==============================] - 6s 175ms/step - loss: 51804774400.0000 - mae: 161781.2812 - mape: 27.6740 - val_loss: 112776552448.0000 - val_mae: 234634.6719 - val_mape: 37.0498\n",
      "Epoch 41/100\n",
      "34/34 [==============================] - 6s 175ms/step - loss: 57767698432.0000 - mae: 176366.9062 - mape: 30.6347 - val_loss: 109132783616.0000 - val_mae: 224698.4062 - val_mape: 33.5109\n",
      "Epoch 42/100\n",
      "34/34 [==============================] - 6s 174ms/step - loss: 48844570624.0000 - mae: 159630.2812 - mape: 27.7169 - val_loss: 106767908864.0000 - val_mae: 231993.0938 - val_mape: 38.3656\n",
      "Epoch 43/100\n",
      "34/34 [==============================] - 6s 174ms/step - loss: 54943756288.0000 - mae: 166082.8438 - mape: 27.9076 - val_loss: 175197061120.0000 - val_mae: 303132.1250 - val_mape: 54.7295\n",
      "Epoch 44/100\n",
      "34/34 [==============================] - 6s 174ms/step - loss: 63859478528.0000 - mae: 179115.2344 - mape: 30.2237 - val_loss: 191755321344.0000 - val_mae: 316084.9375 - val_mape: 55.8050\n",
      "Epoch 45/100\n",
      "34/34 [==============================] - 6s 175ms/step - loss: 49942097920.0000 - mae: 159108.6875 - mape: 27.4273 - val_loss: 128327598080.0000 - val_mae: 247112.5781 - val_mape: 35.4126\n",
      "Epoch 46/100\n",
      "34/34 [==============================] - 6s 174ms/step - loss: 46660882432.0000 - mae: 153606.2344 - mape: 26.4729 - val_loss: 114785075200.0000 - val_mae: 243847.2812 - val_mape: 40.0520\n",
      "Restoring model weights from the end of the best epoch.\n",
      "Epoch 00046: early stopping\n"
     ]
    }
   ],
   "source": [
    "epochs = 100\n",
    "batch_size = 64\n",
    "\n",
    "early_stopping = EarlyStopping(patience=20, verbose=2, restore_best_weights=True)\n",
    "    \n",
    "history = model.fit(\n",
    "    [X_tab_train, X_img_train], \n",
    "    y_train, \n",
    "    validation_data=([X_tab_val, X_img_val], y_val),\n",
    "    epochs=epochs,\n",
    "    batch_size=batch_size,\n",
    "    callbacks=early_stopping\n",
    ")"
   ]
  },
  {
   "cell_type": "code",
   "execution_count": 55,
   "id": "4ebb0afe",
   "metadata": {
    "execution": {
     "iopub.execute_input": "2023-01-28T18:28:11.216323Z",
     "iopub.status.busy": "2023-01-28T18:28:11.215476Z",
     "iopub.status.idle": "2023-01-28T18:28:41.988661Z",
     "shell.execute_reply": "2023-01-28T18:28:41.987746Z"
    },
    "papermill": {
     "duration": 30.971346,
     "end_time": "2023-01-28T18:28:42.088485",
     "exception": false,
     "start_time": "2023-01-28T18:28:11.117139",
     "status": "completed"
    },
    "tags": []
   },
   "outputs": [
    {
     "data": {
      "image/png": "[encoded data removed]",
      "text/plain": [
       "<Figure size 432x288 with 1 Axes>"
      ]
     },
     "metadata": {
      "needs_background": "light"
     },
     "output_type": "display_data"
    }
   ],
   "source": [
    "plt.plot(history.history['loss'])\n",
    "plt.plot(history.history['val_loss'])\n",
    "plt.title('model mean squared error')\n",
    "plt.ylabel('mse')\n",
    "plt.xlabel('epoch')\n",
    "plt.legend(['train', 'val'], loc='upper left')\n",
    "plt.show()"
   ]
  },
  {
   "cell_type": "code",
   "execution_count": 56,
   "id": "5849ced1",
   "metadata": {
    "execution": {
     "iopub.execute_input": "2023-01-28T18:28:42.351022Z",
     "iopub.status.busy": "2023-01-28T18:28:42.350039Z",
     "iopub.status.idle": "2023-01-28T18:28:42.549642Z",
     "shell.execute_reply": "2023-01-28T18:28:42.548741Z"
    },
    "papermill": {
     "duration": 0.298103,
     "end_time": "2023-01-28T18:28:42.551859",
     "exception": false,
     "start_time": "2023-01-28T18:28:42.253756",
     "status": "completed"
    },
    "tags": []
   },
   "outputs": [
    {
     "data": {
      "image/png": "[encoded data removed]",
      "text/plain": [
       "<Figure size 432x288 with 1 Axes>"
      ]
     },
     "metadata": {
      "needs_background": "light"
     },
     "output_type": "display_data"
    }
   ],
   "source": [
    "plt.plot(history.history['mae'])\n",
    "plt.plot(history.history['val_mae'])\n",
    "plt.title('model mean absolute error')\n",
    "plt.ylabel('mae')\n",
    "plt.xlabel('epoch')\n",
    "plt.legend(['train', 'val'], loc='upper left')\n",
    "plt.show()"
   ]
  },
  {
   "cell_type": "code",
   "execution_count": 57,
   "id": "9c81e565",
   "metadata": {
    "execution": {
     "iopub.execute_input": "2023-01-28T18:28:42.744687Z",
     "iopub.status.busy": "2023-01-28T18:28:42.743794Z",
     "iopub.status.idle": "2023-01-28T18:28:42.941739Z",
     "shell.execute_reply": "2023-01-28T18:28:42.940665Z"
    },
    "papermill": {
     "duration": 0.296314,
     "end_time": "2023-01-28T18:28:42.943879",
     "exception": false,
     "start_time": "2023-01-28T18:28:42.647565",
     "status": "completed"
    },
    "tags": []
   },
   "outputs": [
    {
     "data": {
      "image/png": "[encoded data removed]",
      "text/plain": [
       "<Figure size 432x288 with 1 Axes>"
      ]
     },
     "metadata": {
      "needs_background": "light"
     },
     "output_type": "display_data"
    }
   ],
   "source": [
    "plt.plot(history.history['mape'])\n",
    "plt.plot(history.history['val_mape'])\n",
    "plt.title('model mean absolute percentage error')\n",
    "plt.ylabel('mape')\n",
    "plt.xlabel('epoch')\n",
    "plt.legend(['train', 'val'], loc='upper left')\n",
    "plt.show()"
   ]
  },
  {
   "cell_type": "code",
   "execution_count": 58,
   "id": "5b573b63",
   "metadata": {
    "execution": {
     "iopub.execute_input": "2023-01-28T18:28:43.137052Z",
     "iopub.status.busy": "2023-01-28T18:28:43.136131Z",
     "iopub.status.idle": "2023-01-28T18:28:48.564367Z",
     "shell.execute_reply": "2023-01-28T18:28:48.563303Z"
    },
    "papermill": {
     "duration": 5.526876,
     "end_time": "2023-01-28T18:28:48.566910",
     "exception": false,
     "start_time": "2023-01-28T18:28:43.040034",
     "status": "completed"
    },
    "tags": []
   },
   "outputs": [],
   "source": [
    "X_tab_test=tab_features_test\n",
    "X_img_test=img_features_test\n",
    "y_pred_nn = model.predict([X_tab_test, X_img_test])"
   ]
  },
  {
   "cell_type": "code",
   "execution_count": 59,
   "id": "073a629a",
   "metadata": {
    "execution": {
     "iopub.execute_input": "2023-01-28T18:28:48.760704Z",
     "iopub.status.busy": "2023-01-28T18:28:48.760354Z",
     "iopub.status.idle": "2023-01-28T18:28:48.766739Z",
     "shell.execute_reply": "2023-01-28T18:28:48.765683Z"
    },
    "papermill": {
     "duration": 0.105303,
     "end_time": "2023-01-28T18:28:48.769205",
     "exception": false,
     "start_time": "2023-01-28T18:28:48.663902",
     "status": "completed"
    },
    "tags": []
   },
   "outputs": [],
   "source": [
    "def scatterplot_true_and_pred(y_true, y_pred, title) -> None:\n",
    "\n",
    "    ax = sns.scatterplot(x=y_true.reshape(-1), y=y_pred.reshape(-1))\n",
    "    ax.set_title(title)\n",
    "    ax.set(xlabel='True Value', ylabel='Predicted Value')\n",
    "\n",
    "    max_elem = max([y_true.max(), y_pred.max()])\n",
    "    diag_values = np.linspace(0, max_elem, 1000)\n",
    "    plt.plot(diag_values, diag_values, color='magenta', linestyle='--')\n",
    "    plt.show()"
   ]
  },
  {
   "cell_type": "code",
   "execution_count": 60,
   "id": "a5a804f6",
   "metadata": {
    "execution": {
     "iopub.execute_input": "2023-01-28T18:28:48.965332Z",
     "iopub.status.busy": "2023-01-28T18:28:48.964966Z",
     "iopub.status.idle": "2023-01-28T18:28:48.978744Z",
     "shell.execute_reply": "2023-01-28T18:28:48.977851Z"
    },
    "papermill": {
     "duration": 0.11501,
     "end_time": "2023-01-28T18:28:48.980887",
     "exception": false,
     "start_time": "2023-01-28T18:28:48.865877",
     "status": "completed"
    },
    "tags": []
   },
   "outputs": [],
   "source": [
    "df_test=pd.read_csv(\"/kaggle/input/mine-the-model-celesta-2023/test.csv\")"
   ]
  },
  {
   "cell_type": "code",
   "execution_count": 61,
   "id": "b6717df8",
   "metadata": {
    "execution": {
     "iopub.execute_input": "2023-01-28T18:28:49.204363Z",
     "iopub.status.busy": "2023-01-28T18:28:49.203996Z",
     "iopub.status.idle": "2023-01-28T18:28:49.224854Z",
     "shell.execute_reply": "2023-01-28T18:28:49.223843Z"
    },
    "papermill": {
     "duration": 0.150372,
     "end_time": "2023-01-28T18:28:49.229131",
     "exception": false,
     "start_time": "2023-01-28T18:28:49.078759",
     "status": "completed"
    },
    "tags": []
   },
   "outputs": [
    {
     "data": {
      "text/html": [
       "<div>\n",
       "<style scoped>\n",
       "    .dataframe tbody tr th:only-of-type {\n",
       "        vertical-align: middle;\n",
       "    }\n",
       "\n",
       "    .dataframe tbody tr th {\n",
       "        vertical-align: top;\n",
       "    }\n",
       "\n",
       "    .dataframe thead th {\n",
       "        text-align: right;\n",
       "    }\n",
       "</style>\n",
       "<table border=\"1\" class=\"dataframe\">\n",
       "  <thead>\n",
       "    <tr style=\"text-align: right;\">\n",
       "      <th></th>\n",
       "      <th>index</th>\n",
       "      <th>rooms</th>\n",
       "      <th>address</th>\n",
       "      <th>city</th>\n",
       "      <th>sqft</th>\n",
       "      <th>toilets</th>\n",
       "      <th>image_id</th>\n",
       "    </tr>\n",
       "  </thead>\n",
       "  <tbody>\n",
       "    <tr>\n",
       "      <th>0</th>\n",
       "      <td>3076</td>\n",
       "      <td>3</td>\n",
       "      <td>33171 Sea Lion Drive</td>\n",
       "      <td>Dana Point, CA</td>\n",
       "      <td>1510</td>\n",
       "      <td>2.0</td>\n",
       "      <td>3076</td>\n",
       "    </tr>\n",
       "    <tr>\n",
       "      <th>1</th>\n",
       "      <td>3218</td>\n",
       "      <td>4</td>\n",
       "      <td>33 Segovia</td>\n",
       "      <td>San Clemente, CA</td>\n",
       "      <td>2342</td>\n",
       "      <td>3.0</td>\n",
       "      <td>3218</td>\n",
       "    </tr>\n",
       "    <tr>\n",
       "      <th>2</th>\n",
       "      <td>9213</td>\n",
       "      <td>2</td>\n",
       "      <td>1074 TAMARACK Road</td>\n",
       "      <td>Pinon Hills, CA</td>\n",
       "      <td>2845</td>\n",
       "      <td>3.0</td>\n",
       "      <td>9213</td>\n",
       "    </tr>\n",
       "    <tr>\n",
       "      <th>3</th>\n",
       "      <td>10018</td>\n",
       "      <td>4</td>\n",
       "      <td>10989 Coalinga Avenue</td>\n",
       "      <td>Montclair, CA</td>\n",
       "      <td>2379</td>\n",
       "      <td>3.0</td>\n",
       "      <td>10018</td>\n",
       "    </tr>\n",
       "    <tr>\n",
       "      <th>4</th>\n",
       "      <td>11355</td>\n",
       "      <td>4</td>\n",
       "      <td>1128 Custer</td>\n",
       "      <td>Campo, CA</td>\n",
       "      <td>1836</td>\n",
       "      <td>3.0</td>\n",
       "      <td>11355</td>\n",
       "    </tr>\n",
       "    <tr>\n",
       "      <th>...</th>\n",
       "      <td>...</td>\n",
       "      <td>...</td>\n",
       "      <td>...</td>\n",
       "      <td>...</td>\n",
       "      <td>...</td>\n",
       "      <td>...</td>\n",
       "      <td>...</td>\n",
       "    </tr>\n",
       "    <tr>\n",
       "      <th>3596</th>\n",
       "      <td>9421</td>\n",
       "      <td>4</td>\n",
       "      <td>14603 Baylor Avenue</td>\n",
       "      <td>Chino, CA</td>\n",
       "      <td>2092</td>\n",
       "      <td>2.1</td>\n",
       "      <td>9421</td>\n",
       "    </tr>\n",
       "    <tr>\n",
       "      <th>3597</th>\n",
       "      <td>219</td>\n",
       "      <td>3</td>\n",
       "      <td>2301 Woodland Drive</td>\n",
       "      <td>Pine Mountain Club, CA</td>\n",
       "      <td>2000</td>\n",
       "      <td>2.1</td>\n",
       "      <td>219</td>\n",
       "    </tr>\n",
       "    <tr>\n",
       "      <th>3598</th>\n",
       "      <td>10333</td>\n",
       "      <td>5</td>\n",
       "      <td>5771 Jasper Street</td>\n",
       "      <td>Alta Loma, CA</td>\n",
       "      <td>3002</td>\n",
       "      <td>3.1</td>\n",
       "      <td>10333</td>\n",
       "    </tr>\n",
       "    <tr>\n",
       "      <th>3599</th>\n",
       "      <td>2814</td>\n",
       "      <td>3</td>\n",
       "      <td>4490 Lincoln Avenue</td>\n",
       "      <td>Los Angeles, CA</td>\n",
       "      <td>1811</td>\n",
       "      <td>3.1</td>\n",
       "      <td>2814</td>\n",
       "    </tr>\n",
       "    <tr>\n",
       "      <th>3600</th>\n",
       "      <td>11190</td>\n",
       "      <td>3</td>\n",
       "      <td>1965 Fenoval Dr</td>\n",
       "      <td>Borrego Springs, CA</td>\n",
       "      <td>1376</td>\n",
       "      <td>2.0</td>\n",
       "      <td>11190</td>\n",
       "    </tr>\n",
       "  </tbody>\n",
       "</table>\n",
       "<p>3601 rows × 7 columns</p>\n",
       "</div>"
      ],
      "text/plain": [
       "      index  rooms                address                    city  sqft  \\\n",
       "0      3076      3   33171 Sea Lion Drive          Dana Point, CA  1510   \n",
       "1      3218      4             33 Segovia        San Clemente, CA  2342   \n",
       "2      9213      2     1074 TAMARACK Road         Pinon Hills, CA  2845   \n",
       "3     10018      4  10989 Coalinga Avenue           Montclair, CA  2379   \n",
       "4     11355      4            1128 Custer               Campo, CA  1836   \n",
       "...     ...    ...                    ...                     ...   ...   \n",
       "3596   9421      4    14603 Baylor Avenue               Chino, CA  2092   \n",
       "3597    219      3    2301 Woodland Drive  Pine Mountain Club, CA  2000   \n",
       "3598  10333      5     5771 Jasper Street           Alta Loma, CA  3002   \n",
       "3599   2814      3    4490 Lincoln Avenue         Los Angeles, CA  1811   \n",
       "3600  11190      3        1965 Fenoval Dr     Borrego Springs, CA  1376   \n",
       "\n",
       "      toilets  image_id  \n",
       "0         2.0      3076  \n",
       "1         3.0      3218  \n",
       "2         3.0      9213  \n",
       "3         3.0     10018  \n",
       "4         3.0     11355  \n",
       "...       ...       ...  \n",
       "3596      2.1      9421  \n",
       "3597      2.1       219  \n",
       "3598      3.1     10333  \n",
       "3599      3.1      2814  \n",
       "3600      2.0     11190  \n",
       "\n",
       "[3601 rows x 7 columns]"
      ]
     },
     "execution_count": 61,
     "metadata": {},
     "output_type": "execute_result"
    }
   ],
   "source": [
    "df_test"
   ]
  },
  {
   "cell_type": "code",
   "execution_count": 62,
   "id": "3fc1d082",
   "metadata": {
    "execution": {
     "iopub.execute_input": "2023-01-28T18:28:49.449977Z",
     "iopub.status.busy": "2023-01-28T18:28:49.449482Z",
     "iopub.status.idle": "2023-01-28T18:28:49.457299Z",
     "shell.execute_reply": "2023-01-28T18:28:49.456220Z"
    },
    "papermill": {
     "duration": 0.113845,
     "end_time": "2023-01-28T18:28:49.459578",
     "exception": false,
     "start_time": "2023-01-28T18:28:49.345733",
     "status": "completed"
    },
    "tags": []
   },
   "outputs": [
    {
     "data": {
      "text/plain": [
       "array([[586993.5 ],\n",
       "       [649053.  ],\n",
       "       [669620.56],\n",
       "       ...,\n",
       "       [794818.7 ],\n",
       "       [730811.56],\n",
       "       [513792.16]], dtype=float32)"
      ]
     },
     "execution_count": 62,
     "metadata": {},
     "output_type": "execute_result"
    }
   ],
   "source": [
    "y_pred_nn"
   ]
  },
  {
   "cell_type": "code",
   "execution_count": 63,
   "id": "a292451f",
   "metadata": {
    "execution": {
     "iopub.execute_input": "2023-01-28T18:28:49.667433Z",
     "iopub.status.busy": "2023-01-28T18:28:49.666420Z",
     "iopub.status.idle": "2023-01-28T18:28:49.673480Z",
     "shell.execute_reply": "2023-01-28T18:28:49.672509Z"
    },
    "papermill": {
     "duration": 0.108878,
     "end_time": "2023-01-28T18:28:49.675481",
     "exception": false,
     "start_time": "2023-01-28T18:28:49.566603",
     "status": "completed"
    },
    "tags": []
   },
   "outputs": [
    {
     "data": {
      "text/plain": [
       "(5520, 1)"
      ]
     },
     "execution_count": 63,
     "metadata": {},
     "output_type": "execute_result"
    }
   ],
   "source": [
    "y_test.shape"
   ]
  },
  {
   "cell_type": "code",
   "execution_count": 64,
   "id": "a13d7b39",
   "metadata": {
    "execution": {
     "iopub.execute_input": "2023-01-28T18:28:49.869646Z",
     "iopub.status.busy": "2023-01-28T18:28:49.868840Z",
     "iopub.status.idle": "2023-01-28T18:28:49.874232Z",
     "shell.execute_reply": "2023-01-28T18:28:49.873379Z"
    },
    "papermill": {
     "duration": 0.104389,
     "end_time": "2023-01-28T18:28:49.876197",
     "exception": false,
     "start_time": "2023-01-28T18:28:49.771808",
     "status": "completed"
    },
    "tags": []
   },
   "outputs": [],
   "source": [
    "df_test[\"retail_price\"]=y_pred_nn"
   ]
  },
  {
   "cell_type": "code",
   "execution_count": 65,
   "id": "44852e40",
   "metadata": {
    "execution": {
     "iopub.execute_input": "2023-01-28T18:28:50.072825Z",
     "iopub.status.busy": "2023-01-28T18:28:50.072442Z",
     "iopub.status.idle": "2023-01-28T18:28:50.079682Z",
     "shell.execute_reply": "2023-01-28T18:28:50.078674Z"
    },
    "papermill": {
     "duration": 0.109962,
     "end_time": "2023-01-28T18:28:50.081859",
     "exception": false,
     "start_time": "2023-01-28T18:28:49.971897",
     "status": "completed"
    },
    "tags": []
   },
   "outputs": [
    {
     "data": {
      "text/plain": [
       "array([[3.0000e+00, 2.0000e+00, 6.6000e+01, 2.0930e+03, 3.0000e+00,\n",
       "        5.8500e+03],\n",
       "       [4.0000e+00, 1.0000e+00, 1.6000e+01, 2.5450e+03, 5.0000e+00,\n",
       "        1.0084e+04],\n",
       "       [3.0000e+00, 1.0000e+00, 4.0000e+01, 2.3310e+03, 3.0000e+00,\n",
       "        6.3560e+03],\n",
       "       ...,\n",
       "       [4.0000e+00, 1.0000e+00, 7.7000e+01, 2.1400e+03, 3.0000e+00,\n",
       "        2.9160e+03],\n",
       "       [3.0000e+00, 1.0000e+00, 1.3900e+02, 1.6920e+03, 2.0000e+00,\n",
       "        2.2740e+03],\n",
       "       [3.0000e+00, 1.0000e+00, 4.4000e+01, 1.2740e+03, 2.0000e+00,\n",
       "        1.7430e+03]])"
      ]
     },
     "execution_count": 65,
     "metadata": {},
     "output_type": "execute_result"
    }
   ],
   "source": [
    "X_tab_test"
   ]
  },
  {
   "cell_type": "code",
   "execution_count": 66,
   "id": "6e272794",
   "metadata": {
    "execution": {
     "iopub.execute_input": "2023-01-28T18:28:50.280879Z",
     "iopub.status.busy": "2023-01-28T18:28:50.280532Z",
     "iopub.status.idle": "2023-01-28T18:28:50.297131Z",
     "shell.execute_reply": "2023-01-28T18:28:50.296215Z"
    },
    "papermill": {
     "duration": 0.117755,
     "end_time": "2023-01-28T18:28:50.299161",
     "exception": false,
     "start_time": "2023-01-28T18:28:50.181406",
     "status": "completed"
    },
    "tags": []
   },
   "outputs": [
    {
     "data": {
      "text/html": [
       "<div>\n",
       "<style scoped>\n",
       "    .dataframe tbody tr th:only-of-type {\n",
       "        vertical-align: middle;\n",
       "    }\n",
       "\n",
       "    .dataframe tbody tr th {\n",
       "        vertical-align: top;\n",
       "    }\n",
       "\n",
       "    .dataframe thead th {\n",
       "        text-align: right;\n",
       "    }\n",
       "</style>\n",
       "<table border=\"1\" class=\"dataframe\">\n",
       "  <thead>\n",
       "    <tr style=\"text-align: right;\">\n",
       "      <th></th>\n",
       "      <th>index</th>\n",
       "      <th>rooms</th>\n",
       "      <th>address</th>\n",
       "      <th>city</th>\n",
       "      <th>sqft</th>\n",
       "      <th>toilets</th>\n",
       "      <th>image_id</th>\n",
       "      <th>retail_price</th>\n",
       "    </tr>\n",
       "  </thead>\n",
       "  <tbody>\n",
       "    <tr>\n",
       "      <th>0</th>\n",
       "      <td>3076</td>\n",
       "      <td>3</td>\n",
       "      <td>33171 Sea Lion Drive</td>\n",
       "      <td>Dana Point, CA</td>\n",
       "      <td>1510</td>\n",
       "      <td>2.0</td>\n",
       "      <td>3076</td>\n",
       "      <td>586993.50000</td>\n",
       "    </tr>\n",
       "    <tr>\n",
       "      <th>1</th>\n",
       "      <td>3218</td>\n",
       "      <td>4</td>\n",
       "      <td>33 Segovia</td>\n",
       "      <td>San Clemente, CA</td>\n",
       "      <td>2342</td>\n",
       "      <td>3.0</td>\n",
       "      <td>3218</td>\n",
       "      <td>649053.00000</td>\n",
       "    </tr>\n",
       "    <tr>\n",
       "      <th>2</th>\n",
       "      <td>9213</td>\n",
       "      <td>2</td>\n",
       "      <td>1074 TAMARACK Road</td>\n",
       "      <td>Pinon Hills, CA</td>\n",
       "      <td>2845</td>\n",
       "      <td>3.0</td>\n",
       "      <td>9213</td>\n",
       "      <td>669620.56250</td>\n",
       "    </tr>\n",
       "    <tr>\n",
       "      <th>3</th>\n",
       "      <td>10018</td>\n",
       "      <td>4</td>\n",
       "      <td>10989 Coalinga Avenue</td>\n",
       "      <td>Montclair, CA</td>\n",
       "      <td>2379</td>\n",
       "      <td>3.0</td>\n",
       "      <td>10018</td>\n",
       "      <td>442856.53125</td>\n",
       "    </tr>\n",
       "    <tr>\n",
       "      <th>4</th>\n",
       "      <td>11355</td>\n",
       "      <td>4</td>\n",
       "      <td>1128 Custer</td>\n",
       "      <td>Campo, CA</td>\n",
       "      <td>1836</td>\n",
       "      <td>3.0</td>\n",
       "      <td>11355</td>\n",
       "      <td>397263.96875</td>\n",
       "    </tr>\n",
       "    <tr>\n",
       "      <th>...</th>\n",
       "      <td>...</td>\n",
       "      <td>...</td>\n",
       "      <td>...</td>\n",
       "      <td>...</td>\n",
       "      <td>...</td>\n",
       "      <td>...</td>\n",
       "      <td>...</td>\n",
       "      <td>...</td>\n",
       "    </tr>\n",
       "    <tr>\n",
       "      <th>3596</th>\n",
       "      <td>9421</td>\n",
       "      <td>4</td>\n",
       "      <td>14603 Baylor Avenue</td>\n",
       "      <td>Chino, CA</td>\n",
       "      <td>2092</td>\n",
       "      <td>2.1</td>\n",
       "      <td>9421</td>\n",
       "      <td>584338.87500</td>\n",
       "    </tr>\n",
       "    <tr>\n",
       "      <th>3597</th>\n",
       "      <td>219</td>\n",
       "      <td>3</td>\n",
       "      <td>2301 Woodland Drive</td>\n",
       "      <td>Pine Mountain Club, CA</td>\n",
       "      <td>2000</td>\n",
       "      <td>2.1</td>\n",
       "      <td>219</td>\n",
       "      <td>305081.96875</td>\n",
       "    </tr>\n",
       "    <tr>\n",
       "      <th>3598</th>\n",
       "      <td>10333</td>\n",
       "      <td>5</td>\n",
       "      <td>5771 Jasper Street</td>\n",
       "      <td>Alta Loma, CA</td>\n",
       "      <td>3002</td>\n",
       "      <td>3.1</td>\n",
       "      <td>10333</td>\n",
       "      <td>794818.68750</td>\n",
       "    </tr>\n",
       "    <tr>\n",
       "      <th>3599</th>\n",
       "      <td>2814</td>\n",
       "      <td>3</td>\n",
       "      <td>4490 Lincoln Avenue</td>\n",
       "      <td>Los Angeles, CA</td>\n",
       "      <td>1811</td>\n",
       "      <td>3.1</td>\n",
       "      <td>2814</td>\n",
       "      <td>730811.56250</td>\n",
       "    </tr>\n",
       "    <tr>\n",
       "      <th>3600</th>\n",
       "      <td>11190</td>\n",
       "      <td>3</td>\n",
       "      <td>1965 Fenoval Dr</td>\n",
       "      <td>Borrego Springs, CA</td>\n",
       "      <td>1376</td>\n",
       "      <td>2.0</td>\n",
       "      <td>11190</td>\n",
       "      <td>513792.15625</td>\n",
       "    </tr>\n",
       "  </tbody>\n",
       "</table>\n",
       "<p>3601 rows × 8 columns</p>\n",
       "</div>"
      ],
      "text/plain": [
       "      index  rooms                address                    city  sqft  \\\n",
       "0      3076      3   33171 Sea Lion Drive          Dana Point, CA  1510   \n",
       "1      3218      4             33 Segovia        San Clemente, CA  2342   \n",
       "2      9213      2     1074 TAMARACK Road         Pinon Hills, CA  2845   \n",
       "3     10018      4  10989 Coalinga Avenue           Montclair, CA  2379   \n",
       "4     11355      4            1128 Custer               Campo, CA  1836   \n",
       "...     ...    ...                    ...                     ...   ...   \n",
       "3596   9421      4    14603 Baylor Avenue               Chino, CA  2092   \n",
       "3597    219      3    2301 Woodland Drive  Pine Mountain Club, CA  2000   \n",
       "3598  10333      5     5771 Jasper Street           Alta Loma, CA  3002   \n",
       "3599   2814      3    4490 Lincoln Avenue         Los Angeles, CA  1811   \n",
       "3600  11190      3        1965 Fenoval Dr     Borrego Springs, CA  1376   \n",
       "\n",
       "      toilets  image_id  retail_price  \n",
       "0         2.0      3076  586993.50000  \n",
       "1         3.0      3218  649053.00000  \n",
       "2         3.0      9213  669620.56250  \n",
       "3         3.0     10018  442856.53125  \n",
       "4         3.0     11355  397263.96875  \n",
       "...       ...       ...           ...  \n",
       "3596      2.1      9421  584338.87500  \n",
       "3597      2.1       219  305081.96875  \n",
       "3598      3.1     10333  794818.68750  \n",
       "3599      3.1      2814  730811.56250  \n",
       "3600      2.0     11190  513792.15625  \n",
       "\n",
       "[3601 rows x 8 columns]"
      ]
     },
     "execution_count": 66,
     "metadata": {},
     "output_type": "execute_result"
    }
   ],
   "source": [
    "df_test"
   ]
  },
  {
   "cell_type": "code",
   "execution_count": 67,
   "id": "7c0aafed",
   "metadata": {
    "execution": {
     "iopub.execute_input": "2023-01-28T18:28:50.494232Z",
     "iopub.status.busy": "2023-01-28T18:28:50.493451Z",
     "iopub.status.idle": "2023-01-28T18:28:50.499587Z",
     "shell.execute_reply": "2023-01-28T18:28:50.498758Z"
    },
    "papermill": {
     "duration": 0.105474,
     "end_time": "2023-01-28T18:28:50.501462",
     "exception": false,
     "start_time": "2023-01-28T18:28:50.395988",
     "status": "completed"
    },
    "tags": []
   },
   "outputs": [],
   "source": [
    "df_sub=df_test.drop(['rooms','address','city','sqft','toilets','image_id'],axis=1)"
   ]
  },
  {
   "cell_type": "code",
   "execution_count": 68,
   "id": "8d162da9",
   "metadata": {
    "execution": {
     "iopub.execute_input": "2023-01-28T18:28:50.699202Z",
     "iopub.status.busy": "2023-01-28T18:28:50.698849Z",
     "iopub.status.idle": "2023-01-28T18:28:50.712076Z",
     "shell.execute_reply": "2023-01-28T18:28:50.711197Z"
    },
    "papermill": {
     "duration": 0.114103,
     "end_time": "2023-01-28T18:28:50.714020",
     "exception": false,
     "start_time": "2023-01-28T18:28:50.599917",
     "status": "completed"
    },
    "tags": []
   },
   "outputs": [],
   "source": [
    "df_sub.to_csv(\"sample_prediction.csv\")"
   ]
  },
  {
   "cell_type": "code",
   "execution_count": 69,
   "id": "9e5f510f",
   "metadata": {
    "execution": {
     "iopub.execute_input": "2023-01-28T18:28:50.910513Z",
     "iopub.status.busy": "2023-01-28T18:28:50.910179Z",
     "iopub.status.idle": "2023-01-28T18:28:50.921853Z",
     "shell.execute_reply": "2023-01-28T18:28:50.920883Z"
    },
    "papermill": {
     "duration": 0.112081,
     "end_time": "2023-01-28T18:28:50.923781",
     "exception": false,
     "start_time": "2023-01-28T18:28:50.811700",
     "status": "completed"
    },
    "tags": []
   },
   "outputs": [
    {
     "data": {
      "text/html": [
       "<div>\n",
       "<style scoped>\n",
       "    .dataframe tbody tr th:only-of-type {\n",
       "        vertical-align: middle;\n",
       "    }\n",
       "\n",
       "    .dataframe tbody tr th {\n",
       "        vertical-align: top;\n",
       "    }\n",
       "\n",
       "    .dataframe thead th {\n",
       "        text-align: right;\n",
       "    }\n",
       "</style>\n",
       "<table border=\"1\" class=\"dataframe\">\n",
       "  <thead>\n",
       "    <tr style=\"text-align: right;\">\n",
       "      <th></th>\n",
       "      <th>index</th>\n",
       "      <th>retail_price</th>\n",
       "    </tr>\n",
       "  </thead>\n",
       "  <tbody>\n",
       "    <tr>\n",
       "      <th>0</th>\n",
       "      <td>3076</td>\n",
       "      <td>586993.50000</td>\n",
       "    </tr>\n",
       "    <tr>\n",
       "      <th>1</th>\n",
       "      <td>3218</td>\n",
       "      <td>649053.00000</td>\n",
       "    </tr>\n",
       "    <tr>\n",
       "      <th>2</th>\n",
       "      <td>9213</td>\n",
       "      <td>669620.56250</td>\n",
       "    </tr>\n",
       "    <tr>\n",
       "      <th>3</th>\n",
       "      <td>10018</td>\n",
       "      <td>442856.53125</td>\n",
       "    </tr>\n",
       "    <tr>\n",
       "      <th>4</th>\n",
       "      <td>11355</td>\n",
       "      <td>397263.96875</td>\n",
       "    </tr>\n",
       "    <tr>\n",
       "      <th>...</th>\n",
       "      <td>...</td>\n",
       "      <td>...</td>\n",
       "    </tr>\n",
       "    <tr>\n",
       "      <th>3596</th>\n",
       "      <td>9421</td>\n",
       "      <td>584338.87500</td>\n",
       "    </tr>\n",
       "    <tr>\n",
       "      <th>3597</th>\n",
       "      <td>219</td>\n",
       "      <td>305081.96875</td>\n",
       "    </tr>\n",
       "    <tr>\n",
       "      <th>3598</th>\n",
       "      <td>10333</td>\n",
       "      <td>794818.68750</td>\n",
       "    </tr>\n",
       "    <tr>\n",
       "      <th>3599</th>\n",
       "      <td>2814</td>\n",
       "      <td>730811.56250</td>\n",
       "    </tr>\n",
       "    <tr>\n",
       "      <th>3600</th>\n",
       "      <td>11190</td>\n",
       "      <td>513792.15625</td>\n",
       "    </tr>\n",
       "  </tbody>\n",
       "</table>\n",
       "<p>3601 rows × 2 columns</p>\n",
       "</div>"
      ],
      "text/plain": [
       "      index  retail_price\n",
       "0      3076  586993.50000\n",
       "1      3218  649053.00000\n",
       "2      9213  669620.56250\n",
       "3     10018  442856.53125\n",
       "4     11355  397263.96875\n",
       "...     ...           ...\n",
       "3596   9421  584338.87500\n",
       "3597    219  305081.96875\n",
       "3598  10333  794818.68750\n",
       "3599   2814  730811.56250\n",
       "3600  11190  513792.15625\n",
       "\n",
       "[3601 rows x 2 columns]"
      ]
     },
     "execution_count": 69,
     "metadata": {},
     "output_type": "execute_result"
    }
   ],
   "source": [
    "df_sub"
   ]
  },
  {
   "cell_type": "code",
   "execution_count": null,
   "id": "db970bdc",
   "metadata": {
    "papermill": {
     "duration": 0.096899,
     "end_time": "2023-01-28T18:28:51.163501",
     "exception": false,
     "start_time": "2023-01-28T18:28:51.066602",
     "status": "completed"
    },
    "tags": []
   },
   "outputs": [],
   "source": []
  }
 ],
 "metadata": {
  "kernelspec": {
   "display_name": "Python 3",
   "language": "python",
   "name": "python3"
  },
  "language_info": {
   "codemirror_mode": {
    "name": "ipython",
    "version": 3
   },
   "file_extension": ".py",
   "mimetype": "text/x-python",
   "name": "python",
   "nbconvert_exporter": "python",
   "pygments_lexer": "ipython3",
   "version": "3.7.12"
  },
  "papermill": {
   "default_parameters": {},
   "duration": 438.505225,
   "end_time": "2023-01-28T18:28:54.276996",
   "environment_variables": {},
   "exception": null,
   "input_path": "__notebook__.ipynb",
   "output_path": "__notebook__.ipynb",
   "parameters": {},
   "start_time": "2023-01-28T18:21:35.771771",
   "version": "2.3.4"
  }
 },
 "nbformat": 4,
 "nbformat_minor": 5
}
