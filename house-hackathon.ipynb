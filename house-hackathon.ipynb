{
 "cells": [
  {
   "cell_type": "code",
   "execution_count": 1,
   "id": "ef495d89",
   "metadata": {
    "_cell_guid": "b1076dfc-b9ad-4769-8c92-a6c4dae69d19",
    "_uuid": "8f2839f25d086af736a60e9eeb907d3b93b6e0e5",
    "execution": {
     "iopub.execute_input": "2023-01-21T04:38:31.339287Z",
     "iopub.status.busy": "2023-01-21T04:38:31.338834Z",
     "iopub.status.idle": "2023-01-21T04:38:31.347863Z",
     "shell.execute_reply": "2023-01-21T04:38:31.347089Z"
    },
    "papermill": {
     "duration": 0.017945,
     "end_time": "2023-01-21T04:38:31.350015",
     "exception": false,
     "start_time": "2023-01-21T04:38:31.332070",
     "status": "completed"
    },
    "tags": []
   },
   "outputs": [],
   "source": [
    "import pandas as pd\n",
    "import numpy as np"
   ]
  },
  {
   "cell_type": "code",
   "execution_count": 2,
   "id": "e9490781",
   "metadata": {
    "execution": {
     "iopub.execute_input": "2023-01-21T04:38:31.360131Z",
     "iopub.status.busy": "2023-01-21T04:38:31.359442Z",
     "iopub.status.idle": "2023-01-21T04:38:31.416716Z",
     "shell.execute_reply": "2023-01-21T04:38:31.415738Z"
    },
    "papermill": {
     "duration": 0.064816,
     "end_time": "2023-01-21T04:38:31.419157",
     "exception": false,
     "start_time": "2023-01-21T04:38:31.354341",
     "status": "completed"
    },
    "tags": []
   },
   "outputs": [],
   "source": [
    "df=pd.read_csv(\"/kaggle/input/mine-the-model-celesta-2023/train.csv\")\n",
    "df_image=pd.read_csv\n",
    "df_test=pd.read_csv(\"/kaggle/input/mine-the-model-celesta-2023/test.csv\")"
   ]
  },
  {
   "cell_type": "code",
   "execution_count": 3,
   "id": "7c1248ea",
   "metadata": {
    "execution": {
     "iopub.execute_input": "2023-01-21T04:38:31.428524Z",
     "iopub.status.busy": "2023-01-21T04:38:31.428127Z",
     "iopub.status.idle": "2023-01-21T04:38:31.449240Z",
     "shell.execute_reply": "2023-01-21T04:38:31.448123Z"
    },
    "papermill": {
     "duration": 0.028395,
     "end_time": "2023-01-21T04:38:31.451525",
     "exception": false,
     "start_time": "2023-01-21T04:38:31.423130",
     "status": "completed"
    },
    "tags": []
   },
   "outputs": [
    {
     "data": {
      "text/html": [
       "<div>\n",
       "<style scoped>\n",
       "    .dataframe tbody tr th:only-of-type {\n",
       "        vertical-align: middle;\n",
       "    }\n",
       "\n",
       "    .dataframe tbody tr th {\n",
       "        vertical-align: top;\n",
       "    }\n",
       "\n",
       "    .dataframe thead th {\n",
       "        text-align: right;\n",
       "    }\n",
       "</style>\n",
       "<table border=\"1\" class=\"dataframe\">\n",
       "  <thead>\n",
       "    <tr style=\"text-align: right;\">\n",
       "      <th></th>\n",
       "      <th>index</th>\n",
       "      <th>rooms</th>\n",
       "      <th>retail_price</th>\n",
       "      <th>address</th>\n",
       "      <th>city</th>\n",
       "      <th>sqft</th>\n",
       "      <th>toilets</th>\n",
       "      <th>image_id</th>\n",
       "    </tr>\n",
       "  </thead>\n",
       "  <tbody>\n",
       "    <tr>\n",
       "      <th>0</th>\n",
       "      <td>5832</td>\n",
       "      <td>2.0</td>\n",
       "      <td>299000</td>\n",
       "      <td>81913 Calle Torbellino</td>\n",
       "      <td>Indio, CA</td>\n",
       "      <td>1295.0</td>\n",
       "      <td>2.0</td>\n",
       "      <td>5832</td>\n",
       "    </tr>\n",
       "    <tr>\n",
       "      <th>1</th>\n",
       "      <td>5584</td>\n",
       "      <td>3.0</td>\n",
       "      <td>299000</td>\n",
       "      <td>26076 Fiesta Place</td>\n",
       "      <td>Hemet, CA</td>\n",
       "      <td>1566.0</td>\n",
       "      <td>2.0</td>\n",
       "      <td>5584</td>\n",
       "    </tr>\n",
       "    <tr>\n",
       "      <th>2</th>\n",
       "      <td>9408</td>\n",
       "      <td>5.0</td>\n",
       "      <td>499990</td>\n",
       "      <td>34450 Fawn Ridge Place</td>\n",
       "      <td>Yucaipa, CA</td>\n",
       "      <td>3068.0</td>\n",
       "      <td>3.0</td>\n",
       "      <td>9408</td>\n",
       "    </tr>\n",
       "    <tr>\n",
       "      <th>3</th>\n",
       "      <td>4644</td>\n",
       "      <td>4.0</td>\n",
       "      <td>849900</td>\n",
       "      <td>26481 Montebello Place</td>\n",
       "      <td>Mission Viejo, CA</td>\n",
       "      <td>2230.0</td>\n",
       "      <td>2.1</td>\n",
       "      <td>4644</td>\n",
       "    </tr>\n",
       "    <tr>\n",
       "      <th>4</th>\n",
       "      <td>5739</td>\n",
       "      <td>3.0</td>\n",
       "      <td>333490</td>\n",
       "      <td>2562 Red Spruce Lane</td>\n",
       "      <td>San Jacinto, CA</td>\n",
       "      <td>1898.0</td>\n",
       "      <td>2.0</td>\n",
       "      <td>5739</td>\n",
       "    </tr>\n",
       "  </tbody>\n",
       "</table>\n",
       "</div>"
      ],
      "text/plain": [
       "   index  rooms  retail_price                 address               city  \\\n",
       "0   5832    2.0        299000  81913 Calle Torbellino          Indio, CA   \n",
       "1   5584    3.0        299000      26076 Fiesta Place          Hemet, CA   \n",
       "2   9408    5.0        499990  34450 Fawn Ridge Place        Yucaipa, CA   \n",
       "3   4644    4.0        849900  26481 Montebello Place  Mission Viejo, CA   \n",
       "4   5739    3.0        333490    2562 Red Spruce Lane    San Jacinto, CA   \n",
       "\n",
       "     sqft  toilets  image_id  \n",
       "0  1295.0      2.0      5832  \n",
       "1  1566.0      2.0      5584  \n",
       "2  3068.0      3.0      9408  \n",
       "3  2230.0      2.1      4644  \n",
       "4  1898.0      2.0      5739  "
      ]
     },
     "execution_count": 3,
     "metadata": {},
     "output_type": "execute_result"
    }
   ],
   "source": [
    "df.head()"
   ]
  },
  {
   "cell_type": "code",
   "execution_count": 4,
   "id": "c4e41205",
   "metadata": {
    "execution": {
     "iopub.execute_input": "2023-01-21T04:38:31.461738Z",
     "iopub.status.busy": "2023-01-21T04:38:31.460815Z",
     "iopub.status.idle": "2023-01-21T04:38:31.467806Z",
     "shell.execute_reply": "2023-01-21T04:38:31.466600Z"
    },
    "papermill": {
     "duration": 0.014472,
     "end_time": "2023-01-21T04:38:31.470257",
     "exception": false,
     "start_time": "2023-01-21T04:38:31.455785",
     "status": "completed"
    },
    "tags": []
   },
   "outputs": [
    {
     "data": {
      "text/plain": [
       "(8400, 8)"
      ]
     },
     "execution_count": 4,
     "metadata": {},
     "output_type": "execute_result"
    }
   ],
   "source": [
    "df.shape"
   ]
  },
  {
   "cell_type": "code",
   "execution_count": 5,
   "id": "4cf245b6",
   "metadata": {
    "execution": {
     "iopub.execute_input": "2023-01-21T04:38:31.480652Z",
     "iopub.status.busy": "2023-01-21T04:38:31.480053Z",
     "iopub.status.idle": "2023-01-21T04:38:31.498268Z",
     "shell.execute_reply": "2023-01-21T04:38:31.497188Z"
    },
    "papermill": {
     "duration": 0.026003,
     "end_time": "2023-01-21T04:38:31.500494",
     "exception": false,
     "start_time": "2023-01-21T04:38:31.474491",
     "status": "completed"
    },
    "tags": []
   },
   "outputs": [
    {
     "data": {
      "text/plain": [
       "city\n",
       "29 Palms, CA           7\n",
       "Acton, CA             13\n",
       "Adelanto, CA          20\n",
       "Agoura Hills, CA       7\n",
       "Agua Dulce, CA         2\n",
       "                      ..\n",
       "Woodland Hills, CA    28\n",
       "Wrightwood, CA        14\n",
       "Yorba Linda, CA       44\n",
       "Yucaipa, CA           65\n",
       "Yucca Valley, CA      29\n",
       "Name: city, Length: 351, dtype: int64"
      ]
     },
     "execution_count": 5,
     "metadata": {},
     "output_type": "execute_result"
    }
   ],
   "source": [
    "df.groupby('city')['city'].agg('count')"
   ]
  },
  {
   "cell_type": "code",
   "execution_count": 6,
   "id": "82d3fc2d",
   "metadata": {
    "execution": {
     "iopub.execute_input": "2023-01-21T04:38:31.511677Z",
     "iopub.status.busy": "2023-01-21T04:38:31.510814Z",
     "iopub.status.idle": "2023-01-21T04:38:31.520415Z",
     "shell.execute_reply": "2023-01-21T04:38:31.519682Z"
    },
    "papermill": {
     "duration": 0.017132,
     "end_time": "2023-01-21T04:38:31.522366",
     "exception": false,
     "start_time": "2023-01-21T04:38:31.505234",
     "status": "completed"
    },
    "tags": []
   },
   "outputs": [
    {
     "data": {
      "text/plain": [
       "index             0\n",
       "rooms           196\n",
       "retail_price      0\n",
       "address           0\n",
       "city              0\n",
       "sqft            147\n",
       "toilets           0\n",
       "image_id          0\n",
       "dtype: int64"
      ]
     },
     "execution_count": 6,
     "metadata": {},
     "output_type": "execute_result"
    }
   ],
   "source": [
    "df.isnull().sum()"
   ]
  },
  {
   "cell_type": "code",
   "execution_count": 7,
   "id": "89a8b7b1",
   "metadata": {
    "execution": {
     "iopub.execute_input": "2023-01-21T04:38:31.533395Z",
     "iopub.status.busy": "2023-01-21T04:38:31.532530Z",
     "iopub.status.idle": "2023-01-21T04:38:31.550972Z",
     "shell.execute_reply": "2023-01-21T04:38:31.549762Z"
    },
    "papermill": {
     "duration": 0.026316,
     "end_time": "2023-01-21T04:38:31.553212",
     "exception": false,
     "start_time": "2023-01-21T04:38:31.526896",
     "status": "completed"
    },
    "tags": []
   },
   "outputs": [],
   "source": [
    "df['address']=df['address'].str.split(\" \",1).str[1]"
   ]
  },
  {
   "cell_type": "code",
   "execution_count": 8,
   "id": "a8535668",
   "metadata": {
    "execution": {
     "iopub.execute_input": "2023-01-21T04:38:31.563651Z",
     "iopub.status.busy": "2023-01-21T04:38:31.563289Z",
     "iopub.status.idle": "2023-01-21T04:38:31.577397Z",
     "shell.execute_reply": "2023-01-21T04:38:31.576392Z"
    },
    "papermill": {
     "duration": 0.02203,
     "end_time": "2023-01-21T04:38:31.579771",
     "exception": false,
     "start_time": "2023-01-21T04:38:31.557741",
     "status": "completed"
    },
    "tags": []
   },
   "outputs": [
    {
     "data": {
      "text/html": [
       "<div>\n",
       "<style scoped>\n",
       "    .dataframe tbody tr th:only-of-type {\n",
       "        vertical-align: middle;\n",
       "    }\n",
       "\n",
       "    .dataframe tbody tr th {\n",
       "        vertical-align: top;\n",
       "    }\n",
       "\n",
       "    .dataframe thead th {\n",
       "        text-align: right;\n",
       "    }\n",
       "</style>\n",
       "<table border=\"1\" class=\"dataframe\">\n",
       "  <thead>\n",
       "    <tr style=\"text-align: right;\">\n",
       "      <th></th>\n",
       "      <th>index</th>\n",
       "      <th>rooms</th>\n",
       "      <th>retail_price</th>\n",
       "      <th>address</th>\n",
       "      <th>city</th>\n",
       "      <th>sqft</th>\n",
       "      <th>toilets</th>\n",
       "      <th>image_id</th>\n",
       "    </tr>\n",
       "  </thead>\n",
       "  <tbody>\n",
       "    <tr>\n",
       "      <th>0</th>\n",
       "      <td>5832</td>\n",
       "      <td>2.0</td>\n",
       "      <td>299000</td>\n",
       "      <td>Calle Torbellino</td>\n",
       "      <td>Indio, CA</td>\n",
       "      <td>1295.0</td>\n",
       "      <td>2.0</td>\n",
       "      <td>5832</td>\n",
       "    </tr>\n",
       "    <tr>\n",
       "      <th>1</th>\n",
       "      <td>5584</td>\n",
       "      <td>3.0</td>\n",
       "      <td>299000</td>\n",
       "      <td>Fiesta Place</td>\n",
       "      <td>Hemet, CA</td>\n",
       "      <td>1566.0</td>\n",
       "      <td>2.0</td>\n",
       "      <td>5584</td>\n",
       "    </tr>\n",
       "    <tr>\n",
       "      <th>2</th>\n",
       "      <td>9408</td>\n",
       "      <td>5.0</td>\n",
       "      <td>499990</td>\n",
       "      <td>Fawn Ridge Place</td>\n",
       "      <td>Yucaipa, CA</td>\n",
       "      <td>3068.0</td>\n",
       "      <td>3.0</td>\n",
       "      <td>9408</td>\n",
       "    </tr>\n",
       "    <tr>\n",
       "      <th>3</th>\n",
       "      <td>4644</td>\n",
       "      <td>4.0</td>\n",
       "      <td>849900</td>\n",
       "      <td>Montebello Place</td>\n",
       "      <td>Mission Viejo, CA</td>\n",
       "      <td>2230.0</td>\n",
       "      <td>2.1</td>\n",
       "      <td>4644</td>\n",
       "    </tr>\n",
       "    <tr>\n",
       "      <th>4</th>\n",
       "      <td>5739</td>\n",
       "      <td>3.0</td>\n",
       "      <td>333490</td>\n",
       "      <td>Red Spruce Lane</td>\n",
       "      <td>San Jacinto, CA</td>\n",
       "      <td>1898.0</td>\n",
       "      <td>2.0</td>\n",
       "      <td>5739</td>\n",
       "    </tr>\n",
       "  </tbody>\n",
       "</table>\n",
       "</div>"
      ],
      "text/plain": [
       "   index  rooms  retail_price           address               city    sqft  \\\n",
       "0   5832    2.0        299000  Calle Torbellino          Indio, CA  1295.0   \n",
       "1   5584    3.0        299000      Fiesta Place          Hemet, CA  1566.0   \n",
       "2   9408    5.0        499990  Fawn Ridge Place        Yucaipa, CA  3068.0   \n",
       "3   4644    4.0        849900  Montebello Place  Mission Viejo, CA  2230.0   \n",
       "4   5739    3.0        333490   Red Spruce Lane    San Jacinto, CA  1898.0   \n",
       "\n",
       "   toilets  image_id  \n",
       "0      2.0      5832  \n",
       "1      2.0      5584  \n",
       "2      3.0      9408  \n",
       "3      2.1      4644  \n",
       "4      2.0      5739  "
      ]
     },
     "execution_count": 8,
     "metadata": {},
     "output_type": "execute_result"
    }
   ],
   "source": [
    "df.head()"
   ]
  },
  {
   "cell_type": "code",
   "execution_count": 9,
   "id": "d50b2f75",
   "metadata": {
    "execution": {
     "iopub.execute_input": "2023-01-21T04:38:31.590704Z",
     "iopub.status.busy": "2023-01-21T04:38:31.590345Z",
     "iopub.status.idle": "2023-01-21T04:38:31.605383Z",
     "shell.execute_reply": "2023-01-21T04:38:31.604464Z"
    },
    "papermill": {
     "duration": 0.02313,
     "end_time": "2023-01-21T04:38:31.607666",
     "exception": false,
     "start_time": "2023-01-21T04:38:31.584536",
     "status": "completed"
    },
    "tags": []
   },
   "outputs": [
    {
     "data": {
      "text/plain": [
       "Calle Aragon             12\n",
       "Avenida Castilla         10\n",
       "not provided             10\n",
       "Avenida Majorca           9\n",
       "W San Marcos Blvd         7\n",
       "                         ..\n",
       "W 53rd Street             1\n",
       "Myrtlewood Avenue         1\n",
       "Denver Avenue             1\n",
       "Grand Traverse Avenue     1\n",
       "Balmoral Dr               1\n",
       "Name: address, Length: 6382, dtype: int64"
      ]
     },
     "execution_count": 9,
     "metadata": {},
     "output_type": "execute_result"
    }
   ],
   "source": [
    "df['address'].value_counts()"
   ]
  },
  {
   "cell_type": "code",
   "execution_count": 10,
   "id": "30ed5d38",
   "metadata": {
    "execution": {
     "iopub.execute_input": "2023-01-21T04:38:31.619609Z",
     "iopub.status.busy": "2023-01-21T04:38:31.618835Z",
     "iopub.status.idle": "2023-01-21T04:38:31.633331Z",
     "shell.execute_reply": "2023-01-21T04:38:31.632304Z"
    },
    "papermill": {
     "duration": 0.023179,
     "end_time": "2023-01-21T04:38:31.635797",
     "exception": false,
     "start_time": "2023-01-21T04:38:31.612618",
     "status": "completed"
    },
    "tags": []
   },
   "outputs": [],
   "source": [
    "street_frequency=df['address'].value_counts().to_dict()"
   ]
  },
  {
   "cell_type": "code",
   "execution_count": 11,
   "id": "eadb8b8c",
   "metadata": {
    "execution": {
     "iopub.execute_input": "2023-01-21T04:38:31.647277Z",
     "iopub.status.busy": "2023-01-21T04:38:31.646871Z",
     "iopub.status.idle": "2023-01-21T04:38:34.033514Z",
     "shell.execute_reply": "2023-01-21T04:38:34.032363Z"
    },
    "papermill": {
     "duration": 2.395911,
     "end_time": "2023-01-21T04:38:34.036652",
     "exception": false,
     "start_time": "2023-01-21T04:38:31.640741",
     "status": "completed"
    },
    "tags": []
   },
   "outputs": [],
   "source": [
    "df=df.replace({'address':street_frequency})"
   ]
  },
  {
   "cell_type": "code",
   "execution_count": 12,
   "id": "d39963cd",
   "metadata": {
    "execution": {
     "iopub.execute_input": "2023-01-21T04:38:34.048635Z",
     "iopub.status.busy": "2023-01-21T04:38:34.047598Z",
     "iopub.status.idle": "2023-01-21T04:38:34.054727Z",
     "shell.execute_reply": "2023-01-21T04:38:34.053941Z"
    },
    "papermill": {
     "duration": 0.014981,
     "end_time": "2023-01-21T04:38:34.056649",
     "exception": false,
     "start_time": "2023-01-21T04:38:34.041668",
     "status": "completed"
    },
    "tags": []
   },
   "outputs": [
    {
     "data": {
      "text/plain": [
       "351"
      ]
     },
     "execution_count": 12,
     "metadata": {},
     "output_type": "execute_result"
    }
   ],
   "source": [
    "df['city'].nunique()"
   ]
  },
  {
   "cell_type": "code",
   "execution_count": 13,
   "id": "376c7c5f",
   "metadata": {
    "execution": {
     "iopub.execute_input": "2023-01-21T04:38:34.068546Z",
     "iopub.status.busy": "2023-01-21T04:38:34.067560Z",
     "iopub.status.idle": "2023-01-21T04:38:34.077649Z",
     "shell.execute_reply": "2023-01-21T04:38:34.076780Z"
    },
    "papermill": {
     "duration": 0.018233,
     "end_time": "2023-01-21T04:38:34.079813",
     "exception": false,
     "start_time": "2023-01-21T04:38:34.061580",
     "status": "completed"
    },
    "tags": []
   },
   "outputs": [
    {
     "data": {
      "text/plain": [
       "Los Angeles, CA       273\n",
       "San Diego, CA         258\n",
       "La Quinta, CA         219\n",
       "Lancaster, CA         214\n",
       "Riverside, CA         189\n",
       "                     ... \n",
       "Hermosa Beach, CA       1\n",
       "West Hollywood, CA      1\n",
       "Echo Park, CA           1\n",
       "Blue Jay, CA            1\n",
       "San Marino, CA          1\n",
       "Name: city, Length: 351, dtype: int64"
      ]
     },
     "execution_count": 13,
     "metadata": {},
     "output_type": "execute_result"
    }
   ],
   "source": [
    "df['city'].value_counts()"
   ]
  },
  {
   "cell_type": "code",
   "execution_count": null,
   "id": "f92a63f0",
   "metadata": {
    "papermill": {
     "duration": 0.004675,
     "end_time": "2023-01-21T04:38:34.089464",
     "exception": false,
     "start_time": "2023-01-21T04:38:34.084789",
     "status": "completed"
    },
    "tags": []
   },
   "outputs": [],
   "source": []
  }
 ],
 "metadata": {
  "kernelspec": {
   "display_name": "Python 3",
   "language": "python",
   "name": "python3"
  },
  "language_info": {
   "codemirror_mode": {
    "name": "ipython",
    "version": 3
   },
   "file_extension": ".py",
   "mimetype": "text/x-python",
   "name": "python",
   "nbconvert_exporter": "python",
   "pygments_lexer": "ipython3",
   "version": "3.7.12"
  },
  "papermill": {
   "default_parameters": {},
   "duration": 11.774728,
   "end_time": "2023-01-21T04:38:34.715467",
   "environment_variables": {},
   "exception": null,
   "input_path": "__notebook__.ipynb",
   "output_path": "__notebook__.ipynb",
   "parameters": {},
   "start_time": "2023-01-21T04:38:22.940739",
   "version": "2.3.4"
  }
 },
 "nbformat": 4,
 "nbformat_minor": 5
}
